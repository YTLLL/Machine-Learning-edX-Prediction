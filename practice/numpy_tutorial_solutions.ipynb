{
  "nbformat": 4,
  "nbformat_minor": 0,
  "metadata": {
    "colab": {
      "name": "numpy-tutorial-solutions.ipynb",
      "provenance": [],
      "collapsed_sections": []
    },
    "kernelspec": {
      "name": "python3",
      "display_name": "Python 3"
    }
  },
  "cells": [
    {
      "cell_type": "markdown",
      "metadata": {
        "id": "X3kBysI3ExIB",
        "colab_type": "text"
      },
      "source": [
        "# Numpy Tutorial\n",
        "\n",
        "`numpy` is a popular python library for linear algebra and using matricies. This notebook will walk through some basic features of `numpy`"
      ]
    },
    {
      "cell_type": "markdown",
      "metadata": {
        "id": "aWxsR7_DRLfd",
        "colab_type": "text"
      },
      "source": [
        "## Introduction"
      ]
    },
    {
      "cell_type": "code",
      "metadata": {
        "id": "pfoRR1b5En1Y",
        "colab_type": "code",
        "colab": {}
      },
      "source": [
        "import numpy as np"
      ],
      "execution_count": null,
      "outputs": []
    },
    {
      "cell_type": "markdown",
      "metadata": {
        "id": "lZ4TQ347FME2",
        "colab_type": "text"
      },
      "source": [
        "`numpy` has many math functions built in. For example, `numpy` stores the value of pi"
      ]
    },
    {
      "cell_type": "code",
      "metadata": {
        "id": "8NS3PKtvFaAW",
        "colab_type": "code",
        "colab": {
          "base_uri": "https://localhost:8080/",
          "height": 34
        },
        "outputId": "49fceb26-37f6-46b2-cf95-9908b6db1a8e"
      },
      "source": [
        "np.pi"
      ],
      "execution_count": null,
      "outputs": [
        {
          "output_type": "execute_result",
          "data": {
            "text/plain": [
              "3.141592653589793"
            ]
          },
          "metadata": {
            "tags": []
          },
          "execution_count": 11
        }
      ]
    },
    {
      "cell_type": "markdown",
      "metadata": {
        "id": "85IcczaQFbj4",
        "colab_type": "text"
      },
      "source": [
        "`numpy` is also able to generate random numbers using the `randint` function.\n",
        "\n",
        "For example, to generate 2 random numbers between 0 and 10, we write:"
      ]
    },
    {
      "cell_type": "code",
      "metadata": {
        "id": "M9CIGKQOFmCe",
        "colab_type": "code",
        "colab": {
          "base_uri": "https://localhost:8080/",
          "height": 34
        },
        "outputId": "f6052a50-8ffc-49c2-e9e6-6737f913c3dd"
      },
      "source": [
        "np.random.randint(0,10,2)"
      ],
      "execution_count": null,
      "outputs": [
        {
          "output_type": "execute_result",
          "data": {
            "text/plain": [
              "array([7, 9])"
            ]
          },
          "metadata": {
            "tags": []
          },
          "execution_count": 12
        }
      ]
    },
    {
      "cell_type": "markdown",
      "metadata": {
        "id": "rCOWYTP7FmwU",
        "colab_type": "text"
      },
      "source": [
        "We can use random seeds to always produce the same output while generating random numbers (much like using random_state=1 with `sklearn`)\n"
      ]
    },
    {
      "cell_type": "code",
      "metadata": {
        "id": "Wav1KIi0Fvgt",
        "colab_type": "code",
        "colab": {
          "base_uri": "https://localhost:8080/",
          "height": 34
        },
        "outputId": "c045c794-adb3-4c1a-895a-4d5d70d4d87b"
      },
      "source": [
        "np.random.seed(1337)\n",
        "np.random.randint(0, 10, 2)"
      ],
      "execution_count": null,
      "outputs": [
        {
          "output_type": "execute_result",
          "data": {
            "text/plain": [
              "array([7, 8])"
            ]
          },
          "metadata": {
            "tags": []
          },
          "execution_count": 13
        }
      ]
    },
    {
      "cell_type": "markdown",
      "metadata": {
        "id": "q7w2shrDFx_7",
        "colab_type": "text"
      },
      "source": [
        "`numpy` is great at managing lists of data efficiently using arrays. To generate an array of 4 zeros we write:"
      ]
    },
    {
      "cell_type": "code",
      "metadata": {
        "id": "1HMKeDsqF9Hl",
        "colab_type": "code",
        "colab": {
          "base_uri": "https://localhost:8080/",
          "height": 34
        },
        "outputId": "f2cb2903-2860-4f5d-94d0-145c395f4fdf"
      },
      "source": [
        "np.zeros(4)"
      ],
      "execution_count": null,
      "outputs": [
        {
          "output_type": "execute_result",
          "data": {
            "text/plain": [
              "array([0., 0., 0., 0.])"
            ]
          },
          "metadata": {
            "tags": []
          },
          "execution_count": 14
        }
      ]
    },
    {
      "cell_type": "markdown",
      "metadata": {
        "id": "eRA92WIHF9rO",
        "colab_type": "text"
      },
      "source": [
        "Similarly, we can generate an array of only 1's using the `ones` function."
      ]
    },
    {
      "cell_type": "code",
      "metadata": {
        "id": "kT4Ck8tmGDHO",
        "colab_type": "code",
        "colab": {
          "base_uri": "https://localhost:8080/",
          "height": 34
        },
        "outputId": "18cf1fcc-c1f5-4b9b-862b-087bf087e1a2"
      },
      "source": [
        "np.ones(4)"
      ],
      "execution_count": null,
      "outputs": [
        {
          "output_type": "execute_result",
          "data": {
            "text/plain": [
              "array([1., 1., 1., 1.])"
            ]
          },
          "metadata": {
            "tags": []
          },
          "execution_count": 15
        }
      ]
    },
    {
      "cell_type": "markdown",
      "metadata": {
        "id": "sVFccpHMGDsD",
        "colab_type": "text"
      },
      "source": [
        "Another powerful function is the `arange` function (not to be confused with the word arrange) that generates numbers from 0 to n-1. To generate an array of 0,1,2,3,4,5 we use the following:"
      ]
    },
    {
      "cell_type": "code",
      "metadata": {
        "id": "PE84x35EGTWD",
        "colab_type": "code",
        "colab": {
          "base_uri": "https://localhost:8080/",
          "height": 34
        },
        "outputId": "9672e6b9-52b0-4d99-c5d4-fdf780eef811"
      },
      "source": [
        "np.arange(0, 6)"
      ],
      "execution_count": null,
      "outputs": [
        {
          "output_type": "execute_result",
          "data": {
            "text/plain": [
              "array([0, 1, 2, 3, 4, 5])"
            ]
          },
          "metadata": {
            "tags": []
          },
          "execution_count": 16
        }
      ]
    },
    {
      "cell_type": "markdown",
      "metadata": {
        "id": "c-JVOl1yGVbg",
        "colab_type": "text"
      },
      "source": [
        "In addition to one-dimensional arrays, `numpy` can store data in more than one dimension. To create a 2x3 matrix from an array, we use the `reshape` function:"
      ]
    },
    {
      "cell_type": "code",
      "metadata": {
        "id": "Y11yTxB1Ge-6",
        "colab_type": "code",
        "colab": {
          "base_uri": "https://localhost:8080/",
          "height": 50
        },
        "outputId": "ab6b6165-5516-4081-b689-c9761e5b6516"
      },
      "source": [
        "a = np.arange(0,6 )\n",
        "a = a.reshape(2,3)\n",
        "a"
      ],
      "execution_count": null,
      "outputs": [
        {
          "output_type": "execute_result",
          "data": {
            "text/plain": [
              "array([[0, 1, 2],\n",
              "       [3, 4, 5]])"
            ]
          },
          "metadata": {
            "tags": []
          },
          "execution_count": 17
        }
      ]
    },
    {
      "cell_type": "markdown",
      "metadata": {
        "id": "3e6oULbVGiBq",
        "colab_type": "text"
      },
      "source": [
        "Note that `reshape` only works when the array can be correctly divided into the required dimensions."
      ]
    },
    {
      "cell_type": "code",
      "metadata": {
        "id": "h9Ytxz2-GrGs",
        "colab_type": "code",
        "colab": {}
      },
      "source": [
        "# a.reshape(4, 5)"
      ],
      "execution_count": null,
      "outputs": []
    },
    {
      "cell_type": "markdown",
      "metadata": {
        "id": "DNNoLqKeGr2o",
        "colab_type": "text"
      },
      "source": [
        "We can \"undo\" a reshape by using the `flatten` function."
      ]
    },
    {
      "cell_type": "code",
      "metadata": {
        "id": "l18tzAruGxvc",
        "colab_type": "code",
        "colab": {
          "base_uri": "https://localhost:8080/",
          "height": 34
        },
        "outputId": "a164df6f-26b7-4259-9a24-11f3cdff773e"
      },
      "source": [
        "a.flatten()"
      ],
      "execution_count": null,
      "outputs": [
        {
          "output_type": "execute_result",
          "data": {
            "text/plain": [
              "array([0, 1, 2, 3, 4, 5])"
            ]
          },
          "metadata": {
            "tags": []
          },
          "execution_count": 19
        }
      ]
    },
    {
      "cell_type": "markdown",
      "metadata": {
        "id": "_nMCAOVWGyTA",
        "colab_type": "text"
      },
      "source": [
        "Note that `reshape` and `flatten` do **not** change the original array. "
      ]
    },
    {
      "cell_type": "code",
      "metadata": {
        "id": "rTXTQATPG-Qi",
        "colab_type": "code",
        "colab": {
          "base_uri": "https://localhost:8080/",
          "height": 50
        },
        "outputId": "028be168-d76c-4cc6-ac16-7bf7064fe35c"
      },
      "source": [
        "a"
      ],
      "execution_count": null,
      "outputs": [
        {
          "output_type": "execute_result",
          "data": {
            "text/plain": [
              "array([[0, 1, 2],\n",
              "       [3, 4, 5]])"
            ]
          },
          "metadata": {
            "tags": []
          },
          "execution_count": 20
        }
      ]
    },
    {
      "cell_type": "markdown",
      "metadata": {
        "id": "xfma67GRRP93",
        "colab_type": "text"
      },
      "source": [
        "## Operations on arrays"
      ]
    },
    {
      "cell_type": "markdown",
      "metadata": {
        "id": "oGuNLKADG-3Y",
        "colab_type": "text"
      },
      "source": [
        "`numpy` also allows us to apply functions to entire arrays at once. For example, we can take the log of every element in an array using the `np.log` function"
      ]
    },
    {
      "cell_type": "code",
      "metadata": {
        "id": "VMXYhIO0HOsc",
        "colab_type": "code",
        "colab": {
          "base_uri": "https://localhost:8080/",
          "height": 84
        },
        "outputId": "b207647b-6ec2-463b-86ed-d40a2f9ba700"
      },
      "source": [
        "np.log(a)"
      ],
      "execution_count": null,
      "outputs": [
        {
          "output_type": "stream",
          "text": [
            "/usr/local/lib/python3.6/dist-packages/ipykernel_launcher.py:1: RuntimeWarning: divide by zero encountered in log\n",
            "  \"\"\"Entry point for launching an IPython kernel.\n"
          ],
          "name": "stderr"
        },
        {
          "output_type": "execute_result",
          "data": {
            "text/plain": [
              "array([[      -inf, 0.        , 0.69314718],\n",
              "       [1.09861229, 1.38629436, 1.60943791]])"
            ]
          },
          "metadata": {
            "tags": []
          },
          "execution_count": 21
        }
      ]
    },
    {
      "cell_type": "markdown",
      "metadata": {
        "id": "TUge4sA7HPYZ",
        "colab_type": "text"
      },
      "source": [
        "The `argmin` function will return the index of theminimum value given a certain axis.\n",
        "\n",
        "Note that axes can be difficult to understand at first. If your array is two-dimensional, axis=0 corresponds to rows and axis=1 corresponds to the columns.\n",
        "\n",
        "Let's use `argmin` to determine the index of the minimum element inside of the following array."
      ]
    },
    {
      "cell_type": "code",
      "metadata": {
        "id": "ULbBjYvGO5PJ",
        "colab_type": "code",
        "colab": {
          "base_uri": "https://localhost:8080/",
          "height": 50
        },
        "outputId": "ba78c66c-9993-4ce6-ec61-fe9199889b17"
      },
      "source": [
        "print(a.flatten())\n",
        "np.argmin(a)"
      ],
      "execution_count": null,
      "outputs": [
        {
          "output_type": "stream",
          "text": [
            "[0 1 2 3 4 5]\n"
          ],
          "name": "stdout"
        },
        {
          "output_type": "execute_result",
          "data": {
            "text/plain": [
              "0"
            ]
          },
          "metadata": {
            "tags": []
          },
          "execution_count": 22
        }
      ]
    },
    {
      "cell_type": "markdown",
      "metadata": {
        "id": "2AMJXheHPPbL",
        "colab_type": "text"
      },
      "source": [
        "Note that when you omit the `axis` argument, `argmin` calculates the index using the flattened array."
      ]
    },
    {
      "cell_type": "markdown",
      "metadata": {
        "id": "wI-dZ3KAPXom",
        "colab_type": "text"
      },
      "source": [
        "Now let's try the same thing but using `axis=0`"
      ]
    },
    {
      "cell_type": "code",
      "metadata": {
        "id": "WHNKAyBpPHUG",
        "colab_type": "code",
        "colab": {
          "base_uri": "https://localhost:8080/",
          "height": 67
        },
        "outputId": "c1dee4de-f59f-47e9-9cf6-7b366b96dcb0"
      },
      "source": [
        "print(a)\n",
        "np.argmin(a, axis=0)"
      ],
      "execution_count": null,
      "outputs": [
        {
          "output_type": "stream",
          "text": [
            "[[0 1 2]\n",
            " [3 4 5]]\n"
          ],
          "name": "stdout"
        },
        {
          "output_type": "execute_result",
          "data": {
            "text/plain": [
              "array([0, 0, 0])"
            ]
          },
          "metadata": {
            "tags": []
          },
          "execution_count": 23
        }
      ]
    },
    {
      "cell_type": "markdown",
      "metadata": {
        "id": "s4FdRPBuPc8J",
        "colab_type": "text"
      },
      "source": [
        "`argmin` returns an array with three elements where each element is the index in the y direction that holds the maximum element."
      ]
    },
    {
      "cell_type": "markdown",
      "metadata": {
        "id": "uG0gfMirPqm1",
        "colab_type": "text"
      },
      "source": [
        "What happens if we use `axis=1`?"
      ]
    },
    {
      "cell_type": "code",
      "metadata": {
        "id": "g1WdkimBPbmv",
        "colab_type": "code",
        "colab": {
          "base_uri": "https://localhost:8080/",
          "height": 67
        },
        "outputId": "be1ee8c6-ed6b-4fde-e838-87db049d1f3c"
      },
      "source": [
        "print(a)\n",
        "np.argmin(a, axis=1)"
      ],
      "execution_count": null,
      "outputs": [
        {
          "output_type": "stream",
          "text": [
            "[[0 1 2]\n",
            " [3 4 5]]\n"
          ],
          "name": "stdout"
        },
        {
          "output_type": "execute_result",
          "data": {
            "text/plain": [
              "array([0, 0])"
            ]
          },
          "metadata": {
            "tags": []
          },
          "execution_count": 24
        }
      ]
    },
    {
      "cell_type": "markdown",
      "metadata": {
        "id": "7kRzj-0sP6a4",
        "colab_type": "text"
      },
      "source": [
        "Likewise we can use `argmax` to find the indicies of the maximal elements in an axis."
      ]
    },
    {
      "cell_type": "code",
      "metadata": {
        "id": "CJCT-LuVP_Oo",
        "colab_type": "code",
        "colab": {
          "base_uri": "https://localhost:8080/",
          "height": 34
        },
        "outputId": "3c50cb80-758a-431e-e4dd-594e0db0a5c7"
      },
      "source": [
        "np.argmax(a, axis=0)"
      ],
      "execution_count": null,
      "outputs": [
        {
          "output_type": "execute_result",
          "data": {
            "text/plain": [
              "array([1, 1, 1])"
            ]
          },
          "metadata": {
            "tags": []
          },
          "execution_count": 25
        }
      ]
    },
    {
      "cell_type": "markdown",
      "metadata": {
        "id": "PT-j1t6nQC-i",
        "colab_type": "text"
      },
      "source": [
        "We can also use functions on an axis. Let's write code to compute the sum of the elements inside each column."
      ]
    },
    {
      "cell_type": "code",
      "metadata": {
        "id": "jhcOJ_duQM3k",
        "colab_type": "code",
        "colab": {
          "base_uri": "https://localhost:8080/",
          "height": 34
        },
        "outputId": "e54fbe18-277e-46b2-ee4a-6c90ce1406dd"
      },
      "source": [
        "np.sum(a, axis=0)"
      ],
      "execution_count": null,
      "outputs": [
        {
          "output_type": "execute_result",
          "data": {
            "text/plain": [
              "array([3, 5, 7])"
            ]
          },
          "metadata": {
            "tags": []
          },
          "execution_count": 26
        }
      ]
    },
    {
      "cell_type": "markdown",
      "metadata": {
        "id": "lhIc-nxQQNrW",
        "colab_type": "text"
      },
      "source": [
        "Another potentially useful function is `bincount` which counts how many times each number occurs in the array. For example, suppose we declared an array `b`:"
      ]
    },
    {
      "cell_type": "code",
      "metadata": {
        "id": "olbI5TUFQhiM",
        "colab_type": "code",
        "colab": {
          "base_uri": "https://localhost:8080/",
          "height": 50
        },
        "outputId": "d432cc99-da05-4de7-8b8d-df2f45745fcd"
      },
      "source": [
        "b = np.array([0, 1, 1, 3, 2, 1, 7])\n",
        "print(\"Index: 0  1  2  3  4  5  6  7\")\n",
        "np.bincount(b)"
      ],
      "execution_count": null,
      "outputs": [
        {
          "output_type": "stream",
          "text": [
            "Index: 0  1  2  3  4  5  6  7\n"
          ],
          "name": "stdout"
        },
        {
          "output_type": "execute_result",
          "data": {
            "text/plain": [
              "array([1, 3, 1, 1, 0, 0, 0, 1])"
            ]
          },
          "metadata": {
            "tags": []
          },
          "execution_count": 27
        }
      ]
    },
    {
      "cell_type": "markdown",
      "metadata": {
        "id": "udA27qK9QofT",
        "colab_type": "text"
      },
      "source": [
        "The length of the array returned by `bincount` will always be one greater than the largest element in the array."
      ]
    },
    {
      "cell_type": "markdown",
      "metadata": {
        "id": "QfGTGd4VRThM",
        "colab_type": "text"
      },
      "source": [
        "## Comparing Arrays"
      ]
    },
    {
      "cell_type": "markdown",
      "metadata": {
        "id": "F_nAqstLQu82",
        "colab_type": "text"
      },
      "source": [
        "Finally, we can use `numpy` to compare arrays for equality using the `array_equal` function:"
      ]
    },
    {
      "cell_type": "code",
      "metadata": {
        "id": "Mz2w6qjMQkkB",
        "colab_type": "code",
        "colab": {
          "base_uri": "https://localhost:8080/",
          "height": 34
        },
        "outputId": "31815252-41bb-4924-d0b0-7153b342568d"
      },
      "source": [
        "c = np.array([1, 2])\n",
        "d = np.array([2, 1])\n",
        "np.array_equal(c, d)"
      ],
      "execution_count": null,
      "outputs": [
        {
          "output_type": "execute_result",
          "data": {
            "text/plain": [
              "False"
            ]
          },
          "metadata": {
            "tags": []
          },
          "execution_count": 28
        }
      ]
    },
    {
      "cell_type": "markdown",
      "metadata": {
        "id": "2IqBB1uPQ7lj",
        "colab_type": "text"
      },
      "source": [
        "When using floats, it is often necessary to use the `allclose function`"
      ]
    },
    {
      "cell_type": "code",
      "metadata": {
        "id": "Y8QQsOR7Q-mD",
        "colab_type": "code",
        "colab": {
          "base_uri": "https://localhost:8080/",
          "height": 34
        },
        "outputId": "d3780430-c436-496f-f14f-8efa22e46653"
      },
      "source": [
        "e = np.array([1e10,1e-8])\n",
        "f = np.array([1.00001e10,1e-9])\n",
        "np.allclose(e, f)"
      ],
      "execution_count": null,
      "outputs": [
        {
          "output_type": "execute_result",
          "data": {
            "text/plain": [
              "True"
            ]
          },
          "metadata": {
            "tags": []
          },
          "execution_count": 29
        }
      ]
    }
  ]
}