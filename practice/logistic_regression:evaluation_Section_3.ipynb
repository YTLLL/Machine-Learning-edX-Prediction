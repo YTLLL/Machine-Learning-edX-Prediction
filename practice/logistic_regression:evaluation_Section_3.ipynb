{
  "nbformat": 4,
  "nbformat_minor": 0,
  "metadata": {
    "colab": {
      "name": "Stat_CSE_416_Section_3.ipynb",
      "provenance": [],
      "collapsed_sections": []
    },
    "kernelspec": {
      "name": "python3",
      "display_name": "Python 3"
    },
    "widgets": {
      "application/vnd.jupyter.widget-state+json": {
        "a019a2aa5f644db3a9a6336d827ce579": {
          "model_module": "@jupyter-widgets/controls",
          "model_name": "VBoxModel",
          "state": {
            "_view_name": "VBoxView",
            "_dom_classes": [
              "widget-interact"
            ],
            "_model_name": "VBoxModel",
            "_view_module": "@jupyter-widgets/controls",
            "_model_module_version": "1.5.0",
            "_view_count": null,
            "_view_module_version": "1.5.0",
            "box_style": "",
            "layout": "IPY_MODEL_c524c1c0aee04421a653c8e4c43007e0",
            "_model_module": "@jupyter-widgets/controls",
            "children": [
              "IPY_MODEL_8a084c9f58cb424ebb2de1b9ea0d3d40",
              "IPY_MODEL_c21f174e6996447abbaa431b1e35c065"
            ]
          }
        },
        "c524c1c0aee04421a653c8e4c43007e0": {
          "model_module": "@jupyter-widgets/base",
          "model_name": "LayoutModel",
          "state": {
            "_view_name": "LayoutView",
            "grid_template_rows": null,
            "right": null,
            "justify_content": null,
            "_view_module": "@jupyter-widgets/base",
            "overflow": null,
            "_model_module_version": "1.2.0",
            "_view_count": null,
            "flex_flow": null,
            "width": null,
            "min_width": null,
            "border": null,
            "align_items": null,
            "bottom": null,
            "_model_module": "@jupyter-widgets/base",
            "top": null,
            "grid_column": null,
            "overflow_y": null,
            "overflow_x": null,
            "grid_auto_flow": null,
            "grid_area": null,
            "grid_template_columns": null,
            "flex": null,
            "_model_name": "LayoutModel",
            "justify_items": null,
            "grid_row": null,
            "max_height": null,
            "align_content": null,
            "visibility": null,
            "align_self": null,
            "height": null,
            "min_height": null,
            "padding": null,
            "grid_auto_rows": null,
            "grid_gap": null,
            "max_width": null,
            "order": null,
            "_view_module_version": "1.2.0",
            "grid_template_areas": null,
            "object_position": null,
            "object_fit": null,
            "grid_auto_columns": null,
            "margin": null,
            "display": null,
            "left": null
          }
        },
        "8a084c9f58cb424ebb2de1b9ea0d3d40": {
          "model_module": "@jupyter-widgets/controls",
          "model_name": "FloatSliderModel",
          "state": {
            "_view_name": "FloatSliderView",
            "style": "IPY_MODEL_8a4ba6e14cdc45688dcba6c9c78ccf91",
            "_dom_classes": [],
            "description": "threshold",
            "step": 0.001,
            "_model_name": "FloatSliderModel",
            "orientation": "horizontal",
            "max": 1,
            "_view_module": "@jupyter-widgets/controls",
            "_model_module_version": "1.5.0",
            "value": 0,
            "_view_count": null,
            "disabled": false,
            "_view_module_version": "1.5.0",
            "min": 0,
            "continuous_update": true,
            "readout_format": ".2f",
            "description_tooltip": null,
            "readout": true,
            "_model_module": "@jupyter-widgets/controls",
            "layout": "IPY_MODEL_c11074cea9ec4c21b797e977876ecc04"
          }
        },
        "c21f174e6996447abbaa431b1e35c065": {
          "model_module": "@jupyter-widgets/output",
          "model_name": "OutputModel",
          "state": {
            "_view_name": "OutputView",
            "msg_id": "",
            "_dom_classes": [],
            "_model_name": "OutputModel",
            "outputs": [
              {
                "output_type": "stream",
                "metadata": {
                  "tags": []
                },
                "text": "fpr: 1.0\ntpr: 1.0\n",
                "stream": "stdout"
              },
              {
                "output_type": "display_data",
                "metadata": {
                  "tags": [],
                  "needs_background": "light"
                },
                "image/png": "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\n",
                "text/plain": "<Figure size 432x288 with 1 Axes>"
              }
            ],
            "_view_module": "@jupyter-widgets/output",
            "_model_module_version": "1.0.0",
            "_view_count": null,
            "_view_module_version": "1.0.0",
            "layout": "IPY_MODEL_6e393a59173d4bf4b52c6f4a102c4c4c",
            "_model_module": "@jupyter-widgets/output"
          }
        },
        "8a4ba6e14cdc45688dcba6c9c78ccf91": {
          "model_module": "@jupyter-widgets/controls",
          "model_name": "SliderStyleModel",
          "state": {
            "_view_name": "StyleView",
            "handle_color": null,
            "_model_name": "SliderStyleModel",
            "description_width": "",
            "_view_module": "@jupyter-widgets/base",
            "_model_module_version": "1.5.0",
            "_view_count": null,
            "_view_module_version": "1.2.0",
            "_model_module": "@jupyter-widgets/controls"
          }
        },
        "c11074cea9ec4c21b797e977876ecc04": {
          "model_module": "@jupyter-widgets/base",
          "model_name": "LayoutModel",
          "state": {
            "_view_name": "LayoutView",
            "grid_template_rows": null,
            "right": null,
            "justify_content": null,
            "_view_module": "@jupyter-widgets/base",
            "overflow": null,
            "_model_module_version": "1.2.0",
            "_view_count": null,
            "flex_flow": null,
            "width": null,
            "min_width": null,
            "border": null,
            "align_items": null,
            "bottom": null,
            "_model_module": "@jupyter-widgets/base",
            "top": null,
            "grid_column": null,
            "overflow_y": null,
            "overflow_x": null,
            "grid_auto_flow": null,
            "grid_area": null,
            "grid_template_columns": null,
            "flex": null,
            "_model_name": "LayoutModel",
            "justify_items": null,
            "grid_row": null,
            "max_height": null,
            "align_content": null,
            "visibility": null,
            "align_self": null,
            "height": null,
            "min_height": null,
            "padding": null,
            "grid_auto_rows": null,
            "grid_gap": null,
            "max_width": null,
            "order": null,
            "_view_module_version": "1.2.0",
            "grid_template_areas": null,
            "object_position": null,
            "object_fit": null,
            "grid_auto_columns": null,
            "margin": null,
            "display": null,
            "left": null
          }
        },
        "6e393a59173d4bf4b52c6f4a102c4c4c": {
          "model_module": "@jupyter-widgets/base",
          "model_name": "LayoutModel",
          "state": {
            "_view_name": "LayoutView",
            "grid_template_rows": null,
            "right": null,
            "justify_content": null,
            "_view_module": "@jupyter-widgets/base",
            "overflow": null,
            "_model_module_version": "1.2.0",
            "_view_count": null,
            "flex_flow": null,
            "width": null,
            "min_width": null,
            "border": null,
            "align_items": null,
            "bottom": null,
            "_model_module": "@jupyter-widgets/base",
            "top": null,
            "grid_column": null,
            "overflow_y": null,
            "overflow_x": null,
            "grid_auto_flow": null,
            "grid_area": null,
            "grid_template_columns": null,
            "flex": null,
            "_model_name": "LayoutModel",
            "justify_items": null,
            "grid_row": null,
            "max_height": null,
            "align_content": null,
            "visibility": null,
            "align_self": null,
            "height": null,
            "min_height": null,
            "padding": null,
            "grid_auto_rows": null,
            "grid_gap": null,
            "max_width": null,
            "order": null,
            "_view_module_version": "1.2.0",
            "grid_template_areas": null,
            "object_position": null,
            "object_fit": null,
            "grid_auto_columns": null,
            "margin": null,
            "display": null,
            "left": null
          }
        },
        "becb62bb471845598dca24eecf88a074": {
          "model_module": "@jupyter-widgets/controls",
          "model_name": "VBoxModel",
          "state": {
            "_view_name": "VBoxView",
            "_dom_classes": [
              "widget-interact"
            ],
            "_model_name": "VBoxModel",
            "_view_module": "@jupyter-widgets/controls",
            "_model_module_version": "1.5.0",
            "_view_count": null,
            "_view_module_version": "1.5.0",
            "box_style": "",
            "layout": "IPY_MODEL_cc2adf0d64404feabe787debb571239c",
            "_model_module": "@jupyter-widgets/controls",
            "children": [
              "IPY_MODEL_a29aa304cfab48979eefd57c35fb0075",
              "IPY_MODEL_d9bd3013ad98427f89a4878327fbb367"
            ]
          }
        },
        "cc2adf0d64404feabe787debb571239c": {
          "model_module": "@jupyter-widgets/base",
          "model_name": "LayoutModel",
          "state": {
            "_view_name": "LayoutView",
            "grid_template_rows": null,
            "right": null,
            "justify_content": null,
            "_view_module": "@jupyter-widgets/base",
            "overflow": null,
            "_model_module_version": "1.2.0",
            "_view_count": null,
            "flex_flow": null,
            "width": null,
            "min_width": null,
            "border": null,
            "align_items": null,
            "bottom": null,
            "_model_module": "@jupyter-widgets/base",
            "top": null,
            "grid_column": null,
            "overflow_y": null,
            "overflow_x": null,
            "grid_auto_flow": null,
            "grid_area": null,
            "grid_template_columns": null,
            "flex": null,
            "_model_name": "LayoutModel",
            "justify_items": null,
            "grid_row": null,
            "max_height": null,
            "align_content": null,
            "visibility": null,
            "align_self": null,
            "height": null,
            "min_height": null,
            "padding": null,
            "grid_auto_rows": null,
            "grid_gap": null,
            "max_width": null,
            "order": null,
            "_view_module_version": "1.2.0",
            "grid_template_areas": null,
            "object_position": null,
            "object_fit": null,
            "grid_auto_columns": null,
            "margin": null,
            "display": null,
            "left": null
          }
        },
        "a29aa304cfab48979eefd57c35fb0075": {
          "model_module": "@jupyter-widgets/controls",
          "model_name": "FloatSliderModel",
          "state": {
            "_view_name": "FloatSliderView",
            "style": "IPY_MODEL_8aa4912afb4e448d9b68e5643f798702",
            "_dom_classes": [],
            "description": "threshold",
            "step": 0.01,
            "_model_name": "FloatSliderModel",
            "orientation": "horizontal",
            "max": 1,
            "_view_module": "@jupyter-widgets/controls",
            "_model_module_version": "1.5.0",
            "value": 0,
            "_view_count": null,
            "disabled": false,
            "_view_module_version": "1.5.0",
            "min": 0,
            "continuous_update": true,
            "readout_format": ".2f",
            "description_tooltip": null,
            "readout": true,
            "_model_module": "@jupyter-widgets/controls",
            "layout": "IPY_MODEL_1c46d40c51204bbb9bc48a8657c0b2bc"
          }
        },
        "d9bd3013ad98427f89a4878327fbb367": {
          "model_module": "@jupyter-widgets/output",
          "model_name": "OutputModel",
          "state": {
            "_view_name": "OutputView",
            "msg_id": "",
            "_dom_classes": [],
            "_model_name": "OutputModel",
            "outputs": [
              {
                "output_type": "stream",
                "metadata": {
                  "tags": []
                },
                "text": "precision: 0.62\nrecall: 1.0\n",
                "stream": "stdout"
              },
              {
                "output_type": "display_data",
                "metadata": {
                  "tags": [],
                  "needs_background": "light"
                },
                "image/png": "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\n",
                "text/plain": "<Figure size 432x288 with 1 Axes>"
              }
            ],
            "_view_module": "@jupyter-widgets/output",
            "_model_module_version": "1.0.0",
            "_view_count": null,
            "_view_module_version": "1.0.0",
            "layout": "IPY_MODEL_ee70f23518fd4c768b62cdbfc47ae99c",
            "_model_module": "@jupyter-widgets/output"
          }
        },
        "8aa4912afb4e448d9b68e5643f798702": {
          "model_module": "@jupyter-widgets/controls",
          "model_name": "SliderStyleModel",
          "state": {
            "_view_name": "StyleView",
            "handle_color": null,
            "_model_name": "SliderStyleModel",
            "description_width": "",
            "_view_module": "@jupyter-widgets/base",
            "_model_module_version": "1.5.0",
            "_view_count": null,
            "_view_module_version": "1.2.0",
            "_model_module": "@jupyter-widgets/controls"
          }
        },
        "1c46d40c51204bbb9bc48a8657c0b2bc": {
          "model_module": "@jupyter-widgets/base",
          "model_name": "LayoutModel",
          "state": {
            "_view_name": "LayoutView",
            "grid_template_rows": null,
            "right": null,
            "justify_content": null,
            "_view_module": "@jupyter-widgets/base",
            "overflow": null,
            "_model_module_version": "1.2.0",
            "_view_count": null,
            "flex_flow": null,
            "width": null,
            "min_width": null,
            "border": null,
            "align_items": null,
            "bottom": null,
            "_model_module": "@jupyter-widgets/base",
            "top": null,
            "grid_column": null,
            "overflow_y": null,
            "overflow_x": null,
            "grid_auto_flow": null,
            "grid_area": null,
            "grid_template_columns": null,
            "flex": null,
            "_model_name": "LayoutModel",
            "justify_items": null,
            "grid_row": null,
            "max_height": null,
            "align_content": null,
            "visibility": null,
            "align_self": null,
            "height": null,
            "min_height": null,
            "padding": null,
            "grid_auto_rows": null,
            "grid_gap": null,
            "max_width": null,
            "order": null,
            "_view_module_version": "1.2.0",
            "grid_template_areas": null,
            "object_position": null,
            "object_fit": null,
            "grid_auto_columns": null,
            "margin": null,
            "display": null,
            "left": null
          }
        },
        "ee70f23518fd4c768b62cdbfc47ae99c": {
          "model_module": "@jupyter-widgets/base",
          "model_name": "LayoutModel",
          "state": {
            "_view_name": "LayoutView",
            "grid_template_rows": null,
            "right": null,
            "justify_content": null,
            "_view_module": "@jupyter-widgets/base",
            "overflow": null,
            "_model_module_version": "1.2.0",
            "_view_count": null,
            "flex_flow": null,
            "width": null,
            "min_width": null,
            "border": null,
            "align_items": null,
            "bottom": null,
            "_model_module": "@jupyter-widgets/base",
            "top": null,
            "grid_column": null,
            "overflow_y": null,
            "overflow_x": null,
            "grid_auto_flow": null,
            "grid_area": null,
            "grid_template_columns": null,
            "flex": null,
            "_model_name": "LayoutModel",
            "justify_items": null,
            "grid_row": null,
            "max_height": null,
            "align_content": null,
            "visibility": null,
            "align_self": null,
            "height": null,
            "min_height": null,
            "padding": null,
            "grid_auto_rows": null,
            "grid_gap": null,
            "max_width": null,
            "order": null,
            "_view_module_version": "1.2.0",
            "grid_template_areas": null,
            "object_position": null,
            "object_fit": null,
            "grid_auto_columns": null,
            "margin": null,
            "display": null,
            "left": null
          }
        },
        "9ed20e9997344b16959196cc0fb6d8e8": {
          "model_module": "@jupyter-widgets/controls",
          "model_name": "VBoxModel",
          "state": {
            "_view_name": "VBoxView",
            "_dom_classes": [
              "widget-interact"
            ],
            "_model_name": "VBoxModel",
            "_view_module": "@jupyter-widgets/controls",
            "_model_module_version": "1.5.0",
            "_view_count": null,
            "_view_module_version": "1.5.0",
            "box_style": "",
            "layout": "IPY_MODEL_050b03dad0d840a4bcac77ea44bfb786",
            "_model_module": "@jupyter-widgets/controls",
            "children": [
              "IPY_MODEL_e0b52799dc6c45e0adcc8729011bc979",
              "IPY_MODEL_7681ec02eda04231907af10ae0fbaf0d"
            ]
          }
        },
        "050b03dad0d840a4bcac77ea44bfb786": {
          "model_module": "@jupyter-widgets/base",
          "model_name": "LayoutModel",
          "state": {
            "_view_name": "LayoutView",
            "grid_template_rows": null,
            "right": null,
            "justify_content": null,
            "_view_module": "@jupyter-widgets/base",
            "overflow": null,
            "_model_module_version": "1.2.0",
            "_view_count": null,
            "flex_flow": null,
            "width": null,
            "min_width": null,
            "border": null,
            "align_items": null,
            "bottom": null,
            "_model_module": "@jupyter-widgets/base",
            "top": null,
            "grid_column": null,
            "overflow_y": null,
            "overflow_x": null,
            "grid_auto_flow": null,
            "grid_area": null,
            "grid_template_columns": null,
            "flex": null,
            "_model_name": "LayoutModel",
            "justify_items": null,
            "grid_row": null,
            "max_height": null,
            "align_content": null,
            "visibility": null,
            "align_self": null,
            "height": null,
            "min_height": null,
            "padding": null,
            "grid_auto_rows": null,
            "grid_gap": null,
            "max_width": null,
            "order": null,
            "_view_module_version": "1.2.0",
            "grid_template_areas": null,
            "object_position": null,
            "object_fit": null,
            "grid_auto_columns": null,
            "margin": null,
            "display": null,
            "left": null
          }
        },
        "e0b52799dc6c45e0adcc8729011bc979": {
          "model_module": "@jupyter-widgets/controls",
          "model_name": "FloatSliderModel",
          "state": {
            "_view_name": "FloatSliderView",
            "style": "IPY_MODEL_ccfab484c3554138bbb47faf071e2593",
            "_dom_classes": [],
            "description": "threshold",
            "step": 0.001,
            "_model_name": "FloatSliderModel",
            "orientation": "horizontal",
            "max": 1,
            "_view_module": "@jupyter-widgets/controls",
            "_model_module_version": "1.5.0",
            "value": 0,
            "_view_count": null,
            "disabled": false,
            "_view_module_version": "1.5.0",
            "min": 0,
            "continuous_update": true,
            "readout_format": ".2f",
            "description_tooltip": null,
            "readout": true,
            "_model_module": "@jupyter-widgets/controls",
            "layout": "IPY_MODEL_33fb97fc2d6c4434b0793c6dce3cfcf2"
          }
        },
        "7681ec02eda04231907af10ae0fbaf0d": {
          "model_module": "@jupyter-widgets/output",
          "model_name": "OutputModel",
          "state": {
            "_view_name": "OutputView",
            "msg_id": "",
            "_dom_classes": [],
            "_model_name": "OutputModel",
            "outputs": [
              {
                "output_type": "stream",
                "metadata": {
                  "tags": []
                },
                "text": "fpr: 1.0\ntpr: 1.0\n",
                "stream": "stdout"
              },
              {
                "output_type": "display_data",
                "metadata": {
                  "tags": [],
                  "needs_background": "light"
                },
                "image/png": "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\n",
                "text/plain": "<Figure size 432x288 with 1 Axes>"
              }
            ],
            "_view_module": "@jupyter-widgets/output",
            "_model_module_version": "1.0.0",
            "_view_count": null,
            "_view_module_version": "1.0.0",
            "layout": "IPY_MODEL_d28f654d929b44cc85d37c567935e7bb",
            "_model_module": "@jupyter-widgets/output"
          }
        },
        "ccfab484c3554138bbb47faf071e2593": {
          "model_module": "@jupyter-widgets/controls",
          "model_name": "SliderStyleModel",
          "state": {
            "_view_name": "StyleView",
            "handle_color": null,
            "_model_name": "SliderStyleModel",
            "description_width": "",
            "_view_module": "@jupyter-widgets/base",
            "_model_module_version": "1.5.0",
            "_view_count": null,
            "_view_module_version": "1.2.0",
            "_model_module": "@jupyter-widgets/controls"
          }
        },
        "33fb97fc2d6c4434b0793c6dce3cfcf2": {
          "model_module": "@jupyter-widgets/base",
          "model_name": "LayoutModel",
          "state": {
            "_view_name": "LayoutView",
            "grid_template_rows": null,
            "right": null,
            "justify_content": null,
            "_view_module": "@jupyter-widgets/base",
            "overflow": null,
            "_model_module_version": "1.2.0",
            "_view_count": null,
            "flex_flow": null,
            "width": null,
            "min_width": null,
            "border": null,
            "align_items": null,
            "bottom": null,
            "_model_module": "@jupyter-widgets/base",
            "top": null,
            "grid_column": null,
            "overflow_y": null,
            "overflow_x": null,
            "grid_auto_flow": null,
            "grid_area": null,
            "grid_template_columns": null,
            "flex": null,
            "_model_name": "LayoutModel",
            "justify_items": null,
            "grid_row": null,
            "max_height": null,
            "align_content": null,
            "visibility": null,
            "align_self": null,
            "height": null,
            "min_height": null,
            "padding": null,
            "grid_auto_rows": null,
            "grid_gap": null,
            "max_width": null,
            "order": null,
            "_view_module_version": "1.2.0",
            "grid_template_areas": null,
            "object_position": null,
            "object_fit": null,
            "grid_auto_columns": null,
            "margin": null,
            "display": null,
            "left": null
          }
        },
        "d28f654d929b44cc85d37c567935e7bb": {
          "model_module": "@jupyter-widgets/base",
          "model_name": "LayoutModel",
          "state": {
            "_view_name": "LayoutView",
            "grid_template_rows": null,
            "right": null,
            "justify_content": null,
            "_view_module": "@jupyter-widgets/base",
            "overflow": null,
            "_model_module_version": "1.2.0",
            "_view_count": null,
            "flex_flow": null,
            "width": null,
            "min_width": null,
            "border": null,
            "align_items": null,
            "bottom": null,
            "_model_module": "@jupyter-widgets/base",
            "top": null,
            "grid_column": null,
            "overflow_y": null,
            "overflow_x": null,
            "grid_auto_flow": null,
            "grid_area": null,
            "grid_template_columns": null,
            "flex": null,
            "_model_name": "LayoutModel",
            "justify_items": null,
            "grid_row": null,
            "max_height": null,
            "align_content": null,
            "visibility": null,
            "align_self": null,
            "height": null,
            "min_height": null,
            "padding": null,
            "grid_auto_rows": null,
            "grid_gap": null,
            "max_width": null,
            "order": null,
            "_view_module_version": "1.2.0",
            "grid_template_areas": null,
            "object_position": null,
            "object_fit": null,
            "grid_auto_columns": null,
            "margin": null,
            "display": null,
            "left": null
          }
        },
        "597302b0399f467f913cfbaba398343a": {
          "model_module": "@jupyter-widgets/controls",
          "model_name": "VBoxModel",
          "state": {
            "_view_name": "VBoxView",
            "_dom_classes": [
              "widget-interact"
            ],
            "_model_name": "VBoxModel",
            "_view_module": "@jupyter-widgets/controls",
            "_model_module_version": "1.5.0",
            "_view_count": null,
            "_view_module_version": "1.5.0",
            "box_style": "",
            "layout": "IPY_MODEL_f1eee5af34f84a4fb649ab60e56b1778",
            "_model_module": "@jupyter-widgets/controls",
            "children": [
              "IPY_MODEL_7de2018d167e491093a6535585f2caf0",
              "IPY_MODEL_b469f1112197468a8fa32ab2f0aa8894"
            ]
          }
        },
        "f1eee5af34f84a4fb649ab60e56b1778": {
          "model_module": "@jupyter-widgets/base",
          "model_name": "LayoutModel",
          "state": {
            "_view_name": "LayoutView",
            "grid_template_rows": null,
            "right": null,
            "justify_content": null,
            "_view_module": "@jupyter-widgets/base",
            "overflow": null,
            "_model_module_version": "1.2.0",
            "_view_count": null,
            "flex_flow": null,
            "width": null,
            "min_width": null,
            "border": null,
            "align_items": null,
            "bottom": null,
            "_model_module": "@jupyter-widgets/base",
            "top": null,
            "grid_column": null,
            "overflow_y": null,
            "overflow_x": null,
            "grid_auto_flow": null,
            "grid_area": null,
            "grid_template_columns": null,
            "flex": null,
            "_model_name": "LayoutModel",
            "justify_items": null,
            "grid_row": null,
            "max_height": null,
            "align_content": null,
            "visibility": null,
            "align_self": null,
            "height": null,
            "min_height": null,
            "padding": null,
            "grid_auto_rows": null,
            "grid_gap": null,
            "max_width": null,
            "order": null,
            "_view_module_version": "1.2.0",
            "grid_template_areas": null,
            "object_position": null,
            "object_fit": null,
            "grid_auto_columns": null,
            "margin": null,
            "display": null,
            "left": null
          }
        },
        "7de2018d167e491093a6535585f2caf0": {
          "model_module": "@jupyter-widgets/controls",
          "model_name": "FloatSliderModel",
          "state": {
            "_view_name": "FloatSliderView",
            "style": "IPY_MODEL_f0249dab383a4d5fb1fa315e4c7df04b",
            "_dom_classes": [],
            "description": "threshold",
            "step": 0.01,
            "_model_name": "FloatSliderModel",
            "orientation": "horizontal",
            "max": 1,
            "_view_module": "@jupyter-widgets/controls",
            "_model_module_version": "1.5.0",
            "value": 0,
            "_view_count": null,
            "disabled": false,
            "_view_module_version": "1.5.0",
            "min": 0,
            "continuous_update": true,
            "readout_format": ".2f",
            "description_tooltip": null,
            "readout": true,
            "_model_module": "@jupyter-widgets/controls",
            "layout": "IPY_MODEL_b826d20443234f588a818c777e3ad285"
          }
        },
        "b469f1112197468a8fa32ab2f0aa8894": {
          "model_module": "@jupyter-widgets/output",
          "model_name": "OutputModel",
          "state": {
            "_view_name": "OutputView",
            "msg_id": "",
            "_dom_classes": [],
            "_model_name": "OutputModel",
            "outputs": [
              {
                "output_type": "stream",
                "metadata": {
                  "tags": []
                },
                "text": "precision: 0.62\nrecall: 1.0\n",
                "stream": "stdout"
              },
              {
                "output_type": "display_data",
                "metadata": {
                  "tags": [],
                  "needs_background": "light"
                },
                "image/png": "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\n",
                "text/plain": "<Figure size 432x288 with 1 Axes>"
              }
            ],
            "_view_module": "@jupyter-widgets/output",
            "_model_module_version": "1.0.0",
            "_view_count": null,
            "_view_module_version": "1.0.0",
            "layout": "IPY_MODEL_b9664f9828e041f3a95d10f544a7ea48",
            "_model_module": "@jupyter-widgets/output"
          }
        },
        "f0249dab383a4d5fb1fa315e4c7df04b": {
          "model_module": "@jupyter-widgets/controls",
          "model_name": "SliderStyleModel",
          "state": {
            "_view_name": "StyleView",
            "handle_color": null,
            "_model_name": "SliderStyleModel",
            "description_width": "",
            "_view_module": "@jupyter-widgets/base",
            "_model_module_version": "1.5.0",
            "_view_count": null,
            "_view_module_version": "1.2.0",
            "_model_module": "@jupyter-widgets/controls"
          }
        },
        "b826d20443234f588a818c777e3ad285": {
          "model_module": "@jupyter-widgets/base",
          "model_name": "LayoutModel",
          "state": {
            "_view_name": "LayoutView",
            "grid_template_rows": null,
            "right": null,
            "justify_content": null,
            "_view_module": "@jupyter-widgets/base",
            "overflow": null,
            "_model_module_version": "1.2.0",
            "_view_count": null,
            "flex_flow": null,
            "width": null,
            "min_width": null,
            "border": null,
            "align_items": null,
            "bottom": null,
            "_model_module": "@jupyter-widgets/base",
            "top": null,
            "grid_column": null,
            "overflow_y": null,
            "overflow_x": null,
            "grid_auto_flow": null,
            "grid_area": null,
            "grid_template_columns": null,
            "flex": null,
            "_model_name": "LayoutModel",
            "justify_items": null,
            "grid_row": null,
            "max_height": null,
            "align_content": null,
            "visibility": null,
            "align_self": null,
            "height": null,
            "min_height": null,
            "padding": null,
            "grid_auto_rows": null,
            "grid_gap": null,
            "max_width": null,
            "order": null,
            "_view_module_version": "1.2.0",
            "grid_template_areas": null,
            "object_position": null,
            "object_fit": null,
            "grid_auto_columns": null,
            "margin": null,
            "display": null,
            "left": null
          }
        },
        "b9664f9828e041f3a95d10f544a7ea48": {
          "model_module": "@jupyter-widgets/base",
          "model_name": "LayoutModel",
          "state": {
            "_view_name": "LayoutView",
            "grid_template_rows": null,
            "right": null,
            "justify_content": null,
            "_view_module": "@jupyter-widgets/base",
            "overflow": null,
            "_model_module_version": "1.2.0",
            "_view_count": null,
            "flex_flow": null,
            "width": null,
            "min_width": null,
            "border": null,
            "align_items": null,
            "bottom": null,
            "_model_module": "@jupyter-widgets/base",
            "top": null,
            "grid_column": null,
            "overflow_y": null,
            "overflow_x": null,
            "grid_auto_flow": null,
            "grid_area": null,
            "grid_template_columns": null,
            "flex": null,
            "_model_name": "LayoutModel",
            "justify_items": null,
            "grid_row": null,
            "max_height": null,
            "align_content": null,
            "visibility": null,
            "align_self": null,
            "height": null,
            "min_height": null,
            "padding": null,
            "grid_auto_rows": null,
            "grid_gap": null,
            "max_width": null,
            "order": null,
            "_view_module_version": "1.2.0",
            "grid_template_areas": null,
            "object_position": null,
            "object_fit": null,
            "grid_auto_columns": null,
            "margin": null,
            "display": null,
            "left": null
          }
        }
      }
    }
  },
  "cells": [
    {
      "cell_type": "markdown",
      "metadata": {
        "id": "6RbpdXPB9CaH",
        "colab_type": "text"
      },
      "source": [
        "# CSE/STAT 416 Section 3 (7/9/2020)\n",
        "We will discuss sigmoid function, logistic regression and evaluation metrics for classification problems. "
      ]
    },
    {
      "cell_type": "code",
      "metadata": {
        "id": "ZscZY_bR_V4M",
        "colab_type": "code",
        "colab": {
          "base_uri": "https://localhost:8080/",
          "height": 72
        },
        "outputId": "da153d18-bee1-441a-f58f-4d14002e18e2"
      },
      "source": [
        "import numpy as np\n",
        "import matplotlib.pyplot as plt\n",
        "import seaborn as sns\n",
        "import sys"
      ],
      "execution_count": null,
      "outputs": [
        {
          "output_type": "stream",
          "text": [
            "/usr/local/lib/python3.6/dist-packages/statsmodels/tools/_testing.py:19: FutureWarning: pandas.util.testing is deprecated. Use the functions in the public API at pandas.testing instead.\n",
            "  import pandas.util.testing as tm\n"
          ],
          "name": "stderr"
        }
      ]
    },
    {
      "cell_type": "markdown",
      "metadata": {
        "id": "OjzRmmrp9vHT",
        "colab_type": "text"
      },
      "source": [
        "# Sigmoid function \n",
        "The definition of sigmoid/logistic function is as following:\n",
        "$$\n",
        "S(x) = \\frac{1}{1 + \\exp(-x)}\n",
        "$$\n"
      ]
    },
    {
      "cell_type": "code",
      "metadata": {
        "id": "kM-FPrCOATn7",
        "colab_type": "code",
        "colab": {}
      },
      "source": [
        "def sigmoid_function(x):\n",
        "  return 1. / (1. + np.exp(-x))"
      ],
      "execution_count": null,
      "outputs": []
    },
    {
      "cell_type": "code",
      "metadata": {
        "id": "FpDd6JCy8pUl",
        "colab_type": "code",
        "colab": {
          "base_uri": "https://localhost:8080/",
          "height": 296
        },
        "outputId": "d40170c5-7a02-4931-fe3e-8dbf35ee56c6"
      },
      "source": [
        "x = np.linspace(-10, 10, 200)\n",
        "plt.plot(x, sigmoid_function(x))\n",
        "plt.xlabel('x')\n",
        "plt.ylabel('S(x)')"
      ],
      "execution_count": null,
      "outputs": [
        {
          "output_type": "execute_result",
          "data": {
            "text/plain": [
              "Text(0, 0.5, 'S(x)')"
            ]
          },
          "metadata": {
            "tags": []
          },
          "execution_count": 3
        },
        {
          "output_type": "display_data",
          "data": {
            "image/png": "[encoded data removed]",
            "text/plain": [
              "<Figure size 432x288 with 1 Axes>"
            ]
          },
          "metadata": {
            "tags": [],
            "needs_background": "light"
          }
        }
      ]
    },
    {
      "cell_type": "markdown",
      "metadata": {
        "id": "Nigp1C6CAoYf",
        "colab_type": "text"
      },
      "source": [
        "# Some nice properties of sigmoid function\n",
        "\n",
        "\n",
        "1.   It is monotone increasing in $x$.\n",
        "2.   The function value is always between [0,1], thus perfect for modeling probabilities.\n"
      ]
    },
    {
      "cell_type": "markdown",
      "metadata": {
        "id": "YW2kW-3JBLp6",
        "colab_type": "text"
      },
      "source": [
        "# Logistic Regression\n",
        "Data: $(x_1, y_1), (x_2, y_2), \\ldots, (x_n, y_n)$ where $x_i \\in \\mathbb{R}^k$ and $y_i \\in \\{0, +1\\}$. \n",
        "\n",
        "Logistic regression uses sigmoid function to estimate the probability of $y_i$ being +1. \n",
        "$$\n",
        "P(y_i = +1 | x_i, \\beta) = \\frac{1}{1 + \\exp(-x_i^T \\beta)} = S(x_i^T \\beta)\n",
        "$$\n",
        "\n",
        "what about the probability of $y_i$ being 0?\n",
        "$$\n",
        "P(y_i = 0 | x_i, \\beta) = \\frac{1}{1 + \\exp(x_i^T \\beta)}\n",
        "$$\n",
        "Check it yourself that above expression is correct. **Notice here we code the baseline class as 0 instead of -1.**\n",
        "\n",
        "The likelihood is:\n",
        "$$\n",
        "L_n(\\beta) = \\prod_{i=1}^n P(y_i | x_i, \\beta)\n",
        "$$\n",
        "And the log-likelihood looks like following:\n",
        "$$\n",
        "l_n(\\beta) = \\sum_{i=1: y_i = +1}^n \\ln\\left(\\frac{1}{1 + \\exp(-x_i^T\\beta)}\\right) + \\sum_{i=1:y_i = 0}^n \\ln \\left(\\frac{1}{1 + \\exp(x_i^T \\beta)} \\right)\n",
        "$$\n",
        "\n",
        "# Logistic Regrssion used as a classifier\n",
        "\n",
        "1. Use data to \"get\" an estimate of parameter $\\hat{\\beta}$,  we will talk about how to estimate the parameter later \n",
        "2. Given an new input $x$, estimate the probability of $y$ being +1:\n",
        "$$\n",
        "P(y = 1 |x, \\hat{\\beta}) = 1 / (1 + \\exp(-x^T \\hat{\\beta})\n",
        "$$\n",
        "3. Pick a threshold, say $0.5$,\n",
        "$$\n",
        "\\hat{y} = \\begin{cases} \n",
        "+1 & P(y = 1 | x, \\hat{\\beta}) \\geq 0.5 \\\\\n",
        "0 & \\text{otherwise}\n",
        "\\end{cases}\n",
        "$$\n",
        "\n",
        "**Note that the threshold does not need to be fixed as 0.5**. The choice really depend on the specific problem and what you care about. In the example with medical diagnostics for cancer, a lower threshold is usually preferred so a patient with cancer would be more likely discovered. For the example with spam email detection, a higher threshold is probably better so an important email would be less likely to be classified as spam."
      ]
    },
    {
      "cell_type": "markdown",
      "metadata": {
        "id": "VgQTAlasGjFJ",
        "colab_type": "text"
      },
      "source": [
        "# Logistic Regression:  Maximum likelihood estimation of $\\beta$\n",
        "\n",
        "## Motivation for using likelihood:\n",
        "In linear regression, we minimized the RSS, through the same way we can minimize the classification error:\n",
        "$$\n",
        "\\hat{\\beta} = \\arg\\min_w \\frac{1}{n} \\sum_{i=1}^n I(y_i \\neq \\hat{y}_i)\n",
        "$$\n",
        "This loss function is inituitive, but very hard to solve.\n",
        "\n",
        "\n",
        "Instead, with logistic regression, a probabilistic model, we could use maximum likelihood estimation to estimate the parameter $\\beta$.\n",
        "\n",
        "## Likelihood:\n",
        "For logistic regression, given a data point $(x_i, y_i)$, assuming that $y_i = 1$, then likelihood for this single data point would be \n",
        "$$\n",
        "l(\\beta) = P(y = 1 | x; \\beta) = \\frac{1}{1 + \\exp(-x^T \\beta)}\n",
        "$$\n",
        "notice that we usually view the above probility as a function of features/input $x$, but we could also view it as a function of the parameter $\\beta$. The idea for maximum likelihood estimation is that we would like our parameter $\\beta$ to maximize the above probability. A larger probability indicates a better fit of our model.  \n",
        "\n",
        "With multiple data points, the joint likelihood is simply defined as the product of the likelihood for each individual data point. We usually maximize the log of the likelihood for computational reasons. The maximizer would be the same since log is a monotone function."
      ]
    },
    {
      "cell_type": "markdown",
      "metadata": {
        "colab_type": "text",
        "id": "oy8jMH2VOiyv"
      },
      "source": [
        "# How `sklearn` works in the background\n",
        "For linear regression, we were able to find the parameters of the model in a closed form by using the sufficient statistics or by minimizing the RSS objective with gradient descent. **For logistic regression, there is no closed form solution**, so we must resort to gradient-based methods like gradient ascent (ascent because we're trying to maximize the log likelihood instead of minimize) to solve the problem. You could implement logistic regression yourself by calculating the gradient of the log likelihood $\\nabla l(\\beta)$ and applying our update rule $\\beta\\leftarrow \\beta + \\eta \\nabla l(\\beta)$ (we would use + instead of - because we're trying to maximize) until convergence. The log likelihood function is *concave* with respect to $\\beta$, so with the appropriate learning rate and enough iterations, we will converge to the right answer.\n",
        "\n",
        "`sklearn.linear_model.LogisticRegression` takes in a `solver` parameter which determines how it will find $\\beta$. Though the different solvers have advantages and disadvantages based on the problem, they all use local information (like the gradient) to try and find the optimum.\n"
      ]
    },
    {
      "cell_type": "markdown",
      "metadata": {
        "colab_type": "text",
        "id": "wsUMSQpJOiyy"
      },
      "source": [
        "## Example:\n",
        "Suppose now we have four data points:\n",
        "1. $(x_1, y_1) = (1, 1)$\n",
        "2. $(x_2, y_2) = (-1, 0)$\n",
        "3. $(x_3, y_3) = (-0.2, 1)$\n",
        "4. $(x_4, y_4) = (0.2, 0)$.\n",
        "\n",
        "The logistic regression model would then just be \n",
        "$$\n",
        "P(y = 1|x; \\beta) = \\frac{1}{1 + \\exp(-\\beta_0 - \\beta_1 * x)}\n",
        "$$"
      ]
    },
    {
      "cell_type": "code",
      "metadata": {
        "colab_type": "code",
        "id": "zQmi6GUSOiyy",
        "colab": {}
      },
      "source": [
        "# data\n",
        "x_1, y_1 = (1, 1)\n",
        "x_2, y_2 = (-1, 0)\n",
        "x_3, y_3 = (-0.2, 1)\n",
        "x_4, y_4 = (0.2, 0)\n",
        "\n",
        "X_small = np.array([x_1, x_2, x_3, x_4]).reshape((4, 1))\n",
        "X_small = np.append(np.ones((4, 1)), X_small, 1)\n",
        "Y_small = np.array([y_1, y_2, y_3, y_4])"
      ],
      "execution_count": null,
      "outputs": []
    },
    {
      "cell_type": "code",
      "metadata": {
        "colab_type": "code",
        "id": "m4C5QEinOiy3",
        "colab": {
          "base_uri": "https://localhost:8080/",
          "height": 340
        },
        "outputId": "fe702b75-a012-4731-cba0-a0a01b8c1cf4"
      },
      "source": [
        "fig, axes = plt.subplots(1,2, figsize=(12, 5))\n",
        "axes[0].scatter([x_1, x_2, x_3, x_4], Y_small)\n",
        "axes[0].set_xlabel('$x$')\n",
        "axes[0].set_ylabel('$y$')\n",
        "axes[0].set_title('Data with labels as $y$ values')\n",
        "\n",
        "axes[1].scatter([x_1, x_2, x_3, x_4], [0] * 4, c=Y_small)\n",
        "axes[1].set_xlabel('$x$')\n",
        "axes[1].set_title('Data with labels as colors')\n",
        "\n",
        "plt.show()\n"
      ],
      "execution_count": null,
      "outputs": [
        {
          "output_type": "display_data",
          "data": {
            "image/png": "[encoded data removed]",
            "text/plain": [
              "<Figure size 864x360 with 2 Axes>"
            ]
          },
          "metadata": {
            "tags": [],
            "needs_background": "light"
          }
        }
      ]
    },
    {
      "cell_type": "code",
      "metadata": {
        "colab_type": "code",
        "id": "KEVOtmAiOiy6",
        "colab": {}
      },
      "source": [
        "# Compute the log likelihood for logistic regression\n",
        "def logistic_log_likelihood(beta_0, beta_1):\n",
        "  l_1 = sigmoid_function(beta_0 + beta_1 * x_1)\n",
        "  l_2 = 1 - sigmoid_function(beta_0 + beta_1 * x_2)\n",
        "  l_3 = sigmoid_function(beta_0 + beta_1 * x_3)\n",
        "  l_4 = 1 - sigmoid_function(beta_0 + beta_1 * x_4)\n",
        "  return np.log(l_1) + np.log(l_2) + np.log(l_3) + np.log(l_4)"
      ],
      "execution_count": null,
      "outputs": []
    },
    {
      "cell_type": "code",
      "metadata": {
        "colab_type": "code",
        "id": "7Y0eGvypOiy9",
        "colab": {
          "base_uri": "https://localhost:8080/",
          "height": 104
        },
        "outputId": "36e815ac-b42d-4daa-b6f6-d8cf80a9eb2a"
      },
      "source": [
        "from sklearn.linear_model import LogisticRegression # import logistic regression model\n",
        "model_2 = LogisticRegression(penalty = 'none') \n",
        "model_2.fit(X_small, Y_small)"
      ],
      "execution_count": null,
      "outputs": [
        {
          "output_type": "execute_result",
          "data": {
            "text/plain": [
              "LogisticRegression(C=1.0, class_weight=None, dual=False, fit_intercept=True,\n",
              "                   intercept_scaling=1, l1_ratio=None, max_iter=100,\n",
              "                   multi_class='auto', n_jobs=None, penalty='none',\n",
              "                   random_state=None, solver='lbfgs', tol=0.0001, verbose=0,\n",
              "                   warm_start=False)"
            ]
          },
          "metadata": {
            "tags": []
          },
          "execution_count": 7
        }
      ]
    },
    {
      "cell_type": "code",
      "metadata": {
        "colab_type": "code",
        "id": "Bz87ztSnOiy_",
        "colab": {
          "base_uri": "https://localhost:8080/",
          "height": 34
        },
        "outputId": "7b542129-1a6e-4778-d2cd-fc3e52e28a08"
      },
      "source": [
        "mle_estimate = model_2.coef_[0]\n",
        "print('Maximum likelihood estimate would be : (%.3f, %.3f)' % (mle_estimate[0], mle_estimate[1]))"
      ],
      "execution_count": null,
      "outputs": [
        {
          "output_type": "stream",
          "text": [
            "Maximum likelihood estimate would be : (0.000, 1.995)\n"
          ],
          "name": "stdout"
        }
      ]
    },
    {
      "cell_type": "markdown",
      "metadata": {
        "colab_type": "text",
        "id": "IQ-49QvEOizD"
      },
      "source": [
        "Estimate of the parameter would be:\n",
        "\n",
        "$\\hat{\\beta}_0 = 0$, $\\hat{\\beta}_1 = 1.995$"
      ]
    },
    {
      "cell_type": "code",
      "metadata": {
        "colab_type": "code",
        "id": "2ihtg7JpOizD",
        "colab": {
          "base_uri": "https://localhost:8080/",
          "height": 375
        },
        "outputId": "f7f38156-c25b-40ee-b950-dd491db3d6f8"
      },
      "source": [
        "# plot of the decision boundary\n",
        "# everything on the left of the boundary the model will guess 0, on the right +1\n",
        "\n",
        "xs = np.linspace(-1.5, 1.5)\n",
        "ys = sigmoid_function(mle_estimate[0] + xs * mle_estimate[1])\n",
        "\n",
        "fig, axes = plt.subplots(1,2, figsize=(12, 5))\n",
        "axes[0].scatter([x_1, x_2, x_3, x_4], Y_small)\n",
        "axes[0].plot(xs, ys)\n",
        "axes[0].set_xlabel('$x$')\n",
        "axes[0].set_ylabel('$y$')\n",
        "axes[0].set_title('Data with labels as $y$ values and logistic function')\n",
        "\n",
        "\n",
        "decision_xs = [mle_estimate[0], mle_estimate[0]]\n",
        "decision_ys = [-1, 1]\n",
        "print(\"decision_xs: \", decision_xs)\n",
        "print(\"decision_ys: \", decision_ys)\n",
        "\n",
        "axes[1].scatter([x_1, x_2, x_3, x_4], [0] * 4, c=Y_small)\n",
        "axes[1].plot(decision_xs, decision_ys)\n",
        "axes[1].set_xlabel('$x$')\n",
        "axes[1].set_title('Data with labels as colors and decision boundary')\n",
        "\n",
        "plt.show()\n"
      ],
      "execution_count": null,
      "outputs": [
        {
          "output_type": "stream",
          "text": [
            "decision_xs:  [0.0, 0.0]\n",
            "decision_ys:  [-1, 1]\n"
          ],
          "name": "stdout"
        },
        {
          "output_type": "display_data",
          "data": {
            "image/png": "[encoded data removed]",
            "text/plain": [
              "<Figure size 864x360 with 2 Axes>"
            ]
          },
          "metadata": {
            "tags": [],
            "needs_background": "light"
          }
        }
      ]
    },
    {
      "cell_type": "code",
      "metadata": {
        "colab_type": "code",
        "id": "t9j0o_C-OizG",
        "colab": {
          "base_uri": "https://localhost:8080/",
          "height": 265
        },
        "outputId": "94f7709c-2714-4bf0-e30f-71445256b2b4"
      },
      "source": [
        "# plot the loglikelihood over different parameter value and \n",
        "# also plot the maximizer as a red dot.\n",
        "beta_0 = np.linspace(-3, 3, 200)\n",
        "beta_1 = np.linspace(-3, 5, 300)\n",
        "beta_0, beta_1 = np.meshgrid(beta_0, beta_1)\n",
        "loglik = logistic_log_likelihood(beta_0, beta_1)\n",
        "\n",
        "fig = plt.figure()\n",
        "ax = plt.axes(projection='3d')\n",
        "ax.plot_surface(beta_0, beta_1, loglik)\n",
        "ax.scatter(mle_estimate[0], mle_estimate[1], \n",
        "           logistic_log_likelihood(mle_estimate[0], mle_estimate[1]), c='red',\n",
        "           s= 50, marker='v', alpha=1)\n",
        "ax.set_xlabel(r'$\\beta_0$')\n",
        "ax.set_ylabel(r'$\\beta_1$')\n",
        "ax.set_zlabel('log-likelihood')\n"
      ],
      "execution_count": null,
      "outputs": [
        {
          "output_type": "execute_result",
          "data": {
            "text/plain": [
              "Text(0.5, 0, 'log-likelihood')"
            ]
          },
          "metadata": {
            "tags": []
          },
          "execution_count": 10
        },
        {
          "output_type": "display_data",
          "data": {
            "image/png": "[encoded data removed]",
            "text/plain": [
              "<Figure size 432x288 with 1 Axes>"
            ]
          },
          "metadata": {
            "tags": [],
            "needs_background": "light"
          }
        }
      ]
    },
    {
      "cell_type": "code",
      "metadata": {
        "colab_type": "code",
        "id": "VJbS9OnXOizK",
        "colab": {
          "base_uri": "https://localhost:8080/",
          "height": 287
        },
        "outputId": "3d8d5cee-1a9b-40d3-a479-a4310d5eb45d"
      },
      "source": [
        "fig1, ax2 = plt.subplots()\n",
        "cs = ax2.contourf(beta_0, beta_1, loglik)\n",
        "cbar = fig1.colorbar(cs)\n",
        "ax2.scatter(mle_estimate[0], mle_estimate[1], color='red')\n",
        "ax2.set_xlabel(r'$\\beta_0$')\n",
        "ax2.set_ylabel(r'$\\beta_1$')\n",
        "plt.show()"
      ],
      "execution_count": null,
      "outputs": [
        {
          "output_type": "display_data",
          "data": {
            "image/png": "[encoded data removed]",
            "text/plain": [
              "<Figure size 432x288 with 2 Axes>"
            ]
          },
          "metadata": {
            "tags": [],
            "needs_background": "light"
          }
        }
      ]
    },
    {
      "cell_type": "markdown",
      "metadata": {
        "id": "FUmbAkOvijru",
        "colab_type": "text"
      },
      "source": [
        "# Linear Regression vs Logistic Regression\n",
        "It is totally possible to use linear regression for classification. We could just minimize the RSS objective and restrict our $y$'s to be 0 or 1 (or -1 and 1), then use a threshold to determine if we think it is a positive or not.\n",
        "\n",
        "Let's see what that would look like with our data."
      ]
    },
    {
      "cell_type": "code",
      "metadata": {
        "id": "dTC_3kkhaHUU",
        "colab_type": "code",
        "colab": {
          "base_uri": "https://localhost:8080/",
          "height": 340
        },
        "outputId": "e79771ff-8520-40bd-b8e1-006a5085face"
      },
      "source": [
        "from sklearn.linear_model import LinearRegression # import linear regression model\n",
        "model_2 = LinearRegression(fit_intercept=False) # doing the bias manually\n",
        "model_2.fit(X_small, Y_small)\n",
        "\n",
        "xs = np.linspace(-1.5, 1.5).reshape(-1, 1)\n",
        "xs = np.append(np.ones((xs.shape[0], 1)), xs, 1)\n",
        "ys = model_2.predict(xs)\n",
        "\n",
        "fig, axes = plt.subplots(1,2, figsize=(12, 5))\n",
        "axes[0].scatter([x_1, x_2, x_3, x_4], Y_small)\n",
        "axes[0].plot(xs[:, 1], ys)\n",
        "axes[0].set_xlabel('$x$')\n",
        "axes[0].set_ylabel('$y$')\n",
        "axes[0].set_title('Data with labels as $y$ values and linear function')\n",
        "\n",
        "thresh = 0.5\n",
        "thresh_cross = (thresh - model_2.coef_[0]) / model_2.coef_[1] # thresh = m*x + b, solve for x\n",
        "\n",
        "decision_xs = [thresh_cross, thresh_cross]\n",
        "decision_ys = [-1, 1]\n",
        "\n",
        "axes[1].scatter([x_1, x_2, x_3, x_4], [0] * 4, c=Y_small)\n",
        "axes[1].plot(decision_xs, decision_ys)\n",
        "axes[1].set_xlabel('$x$')\n",
        "axes[1].set_title('Data with labels as colors and decision boundary')\n",
        "\n",
        "plt.show()\n"
      ],
      "execution_count": null,
      "outputs": [
        {
          "output_type": "display_data",
          "data": {
            "image/png": "[encoded data removed]",
            "text/plain": [
              "<Figure size 864x360 with 2 Axes>"
            ]
          },
          "metadata": {
            "tags": [],
            "needs_background": "light"
          }
        }
      ]
    },
    {
      "cell_type": "markdown",
      "metadata": {
        "id": "NCYMDoMKcCTy",
        "colab_type": "text"
      },
      "source": [
        "Although in this example we have the same decision boundary, this is not the case in general. Moreover, we are unable to interpret the score as a probability."
      ]
    },
    {
      "cell_type": "markdown",
      "metadata": {
        "id": "yKfmBCwDO93p",
        "colab_type": "text"
      },
      "source": [
        "# Real Data Example:  [Breast Cancer Wisconsin (Diagnostic) Dataset](https://archive.ics.uci.edu/ml/datasets/Breast+Cancer+Wisconsin+(Diagnostic))\n",
        "\n",
        "Goal:  Use features computed from a digitized image of a fine needle aspirate (FNA) of a breast mass to predict type of breast cancer.\n",
        "\n"
      ]
    },
    {
      "cell_type": "code",
      "metadata": {
        "id": "jAvhrgqKJ7dn",
        "colab_type": "code",
        "colab": {}
      },
      "source": [
        "from sklearn.datasets import load_breast_cancer # load dataset \n",
        "from sklearn.model_selection import train_test_split # split the dataset \n",
        "from sklearn.preprocessing import StandardScaler # scale the features\n",
        "from sklearn.linear_model import LogisticRegression # import logistic regression model"
      ],
      "execution_count": null,
      "outputs": []
    },
    {
      "cell_type": "code",
      "metadata": {
        "id": "K8FM2I9CNyLi",
        "colab_type": "code",
        "colab": {}
      },
      "source": [
        "dataset = load_breast_cancer() # returns a dictionary"
      ],
      "execution_count": null,
      "outputs": []
    },
    {
      "cell_type": "code",
      "metadata": {
        "id": "Yr6zdr4qOAv2",
        "colab_type": "code",
        "colab": {
          "base_uri": "https://localhost:8080/",
          "height": 34
        },
        "outputId": "1b38f8ad-01ed-4efc-e9d6-e0f0f5ad1629"
      },
      "source": [
        "list(dataset.target_names)"
      ],
      "execution_count": null,
      "outputs": [
        {
          "output_type": "execute_result",
          "data": {
            "text/plain": [
              "['malignant', 'benign']"
            ]
          },
          "metadata": {
            "tags": []
          },
          "execution_count": 15
        }
      ]
    },
    {
      "cell_type": "code",
      "metadata": {
        "id": "WAVPORFxOQEb",
        "colab_type": "code",
        "colab": {}
      },
      "source": [
        "y = dataset.target\n",
        "X = dataset.data"
      ],
      "execution_count": null,
      "outputs": []
    },
    {
      "cell_type": "code",
      "metadata": {
        "id": "gzXK0aqPOgrD",
        "colab_type": "code",
        "colab": {
          "base_uri": "https://localhost:8080/",
          "height": 190
        },
        "outputId": "1e7a159e-7023-433a-ab3d-96cacdefc22c"
      },
      "source": [
        "dataset.feature_names"
      ],
      "execution_count": null,
      "outputs": [
        {
          "output_type": "execute_result",
          "data": {
            "text/plain": [
              "array(['mean radius', 'mean texture', 'mean perimeter', 'mean area',\n",
              "       'mean smoothness', 'mean compactness', 'mean concavity',\n",
              "       'mean concave points', 'mean symmetry', 'mean fractal dimension',\n",
              "       'radius error', 'texture error', 'perimeter error', 'area error',\n",
              "       'smoothness error', 'compactness error', 'concavity error',\n",
              "       'concave points error', 'symmetry error',\n",
              "       'fractal dimension error', 'worst radius', 'worst texture',\n",
              "       'worst perimeter', 'worst area', 'worst smoothness',\n",
              "       'worst compactness', 'worst concavity', 'worst concave points',\n",
              "       'worst symmetry', 'worst fractal dimension'], dtype='<U23')"
            ]
          },
          "metadata": {
            "tags": []
          },
          "execution_count": 17
        }
      ]
    },
    {
      "cell_type": "code",
      "metadata": {
        "id": "uAqlULOYPoGn",
        "colab_type": "code",
        "colab": {}
      },
      "source": [
        "# Split dataset into train, validation and test\n",
        "X_train, X_test, y_train, y_test = train_test_split(X, y, test_size=0.10, random_state=42)\n",
        "X_train, X_val, y_train, y_val = train_test_split(X_train, y_train, test_size=0.30, random_state=42)"
      ],
      "execution_count": null,
      "outputs": []
    },
    {
      "cell_type": "code",
      "metadata": {
        "id": "79rdIc9bQF6o",
        "colab_type": "code",
        "colab": {}
      },
      "source": [
        "# Next standardize the dataset\n",
        "scaler = StandardScaler().fit(X_train)\n",
        "X_train = scaler.transform(X_train)\n",
        "X_val = scaler.transform(X_val)"
      ],
      "execution_count": null,
      "outputs": []
    },
    {
      "cell_type": "code",
      "metadata": {
        "id": "HKTlooMuQp_Z",
        "colab_type": "code",
        "colab": {
          "base_uri": "https://localhost:8080/",
          "height": 104
        },
        "outputId": "36272cb8-c0f0-444d-9d5d-dedb5237eed5"
      },
      "source": [
        "# Create and train logistic regression model\n",
        "model = LogisticRegression(penalty = 'none') \n",
        "model.fit(X_train,y_train)"
      ],
      "execution_count": null,
      "outputs": [
        {
          "output_type": "execute_result",
          "data": {
            "text/plain": [
              "LogisticRegression(C=1.0, class_weight=None, dual=False, fit_intercept=True,\n",
              "                   intercept_scaling=1, l1_ratio=None, max_iter=100,\n",
              "                   multi_class='auto', n_jobs=None, penalty='none',\n",
              "                   random_state=None, solver='lbfgs', tol=0.0001, verbose=0,\n",
              "                   warm_start=False)"
            ]
          },
          "metadata": {
            "tags": []
          },
          "execution_count": 20
        }
      ]
    },
    {
      "cell_type": "code",
      "metadata": {
        "id": "s3OHl61FRi43",
        "colab_type": "code",
        "colab": {
          "base_uri": "https://localhost:8080/",
          "height": 536
        },
        "outputId": "b592acf1-56fa-4c1e-9b75-3614d116469a"
      },
      "source": [
        "# Let's see the estimated coefficient\n",
        "def print_coefficients(coef, features):\n",
        "    \"\"\"\n",
        "    This function takes in a model column and a features column. \n",
        "    And prints the coefficient along with its feature name.\n",
        "    \"\"\"\n",
        "    feats = list(zip(features, coef))\n",
        "    print(*feats, sep = \"\\n\")\n",
        "    \n",
        "print_coefficients(model.coef_[0], dataset.feature_names)"
      ],
      "execution_count": null,
      "outputs": [
        {
          "output_type": "stream",
          "text": [
            "('mean radius', 11.586773784280616)\n",
            "('mean texture', 39.849182759345474)\n",
            "('mean perimeter', 11.998228602537782)\n",
            "('mean area', -0.14805398607673614)\n",
            "('mean smoothness', 22.814448527264332)\n",
            "('mean compactness', 93.8645695173821)\n",
            "('mean concavity', -126.46125095529176)\n",
            "('mean concave points', -110.8289836578708)\n",
            "('mean symmetry', 16.824294639349723)\n",
            "('mean fractal dimension', -41.878126210225574)\n",
            "('radius error', -123.90151203976164)\n",
            "('texture error', 97.06697583825192)\n",
            "('perimeter error', -38.30669707672605)\n",
            "('area error', -85.15907030125858)\n",
            "('smoothness error', -47.32009021572118)\n",
            "('compactness error', 114.99364168248201)\n",
            "('concavity error', -35.27922814766596)\n",
            "('concave points error', -51.08245255386571)\n",
            "('symmetry error', 51.185125806032644)\n",
            "('fractal dimension error', 94.63513039131308)\n",
            "('worst radius', -90.44948543078256)\n",
            "('worst texture', -201.75147082954567)\n",
            "('worst perimeter', -43.17265041997824)\n",
            "('worst area', -84.51160382028958)\n",
            "('worst smoothness', -12.604332585415362)\n",
            "('worst compactness', 39.02913413226611)\n",
            "('worst concavity', -132.60752387008222)\n",
            "('worst concave points', -56.194769819368595)\n",
            "('worst symmetry', -106.85884183640016)\n",
            "('worst fractal dimension', 4.580758157879542)\n"
          ],
          "name": "stdout"
        }
      ]
    },
    {
      "cell_type": "code",
      "metadata": {
        "id": "_n3WmQGDYcpG",
        "colab_type": "code",
        "colab": {
          "base_uri": "https://localhost:8080/",
          "height": 34
        },
        "outputId": "8b271159-47bc-45e1-88a0-1a744a22f049"
      },
      "source": [
        "# Get the estimated probability\n",
        "# prob_val is in fact a matrix with two columns;\n",
        "# each column represent the probability\n",
        "prob_val = model.predict_proba(X_val)  "
      ],
      "execution_count": null,
      "outputs": [
        {
          "output_type": "stream",
          "text": [
            "(154, 30)\n"
          ],
          "name": "stdout"
        }
      ]
    },
    {
      "cell_type": "code",
      "metadata": {
        "id": "J0Vre7jSZ5b2",
        "colab_type": "code",
        "colab": {
          "base_uri": "https://localhost:8080/",
          "height": 34
        },
        "outputId": "b07aa684-1dc4-4a80-a5d4-5c2c5aaa6549"
      },
      "source": [
        "y_val[0:5]"
      ],
      "execution_count": null,
      "outputs": [
        {
          "output_type": "execute_result",
          "data": {
            "text/plain": [
              "array([1, 0, 1, 1, 1])"
            ]
          },
          "metadata": {
            "tags": []
          },
          "execution_count": 23
        }
      ]
    },
    {
      "cell_type": "code",
      "metadata": {
        "id": "6AZTOpSgR3aL",
        "colab_type": "code",
        "colab": {
          "base_uri": "https://localhost:8080/",
          "height": 34
        },
        "outputId": "27511508-399a-428b-c7e2-41f5bc9b93d0"
      },
      "source": [
        "# Now use the estimated probability to predict the class\n",
        "threshold = 0.5\n",
        "y_pred = (prob_val[:, 0] < threshold)\n",
        "\n",
        "# accuracy\n",
        "sum(abs(y_pred == y_val))/len(y_val)"
      ],
      "execution_count": null,
      "outputs": [
        {
          "output_type": "execute_result",
          "data": {
            "text/plain": [
              "0.961038961038961"
            ]
          },
          "metadata": {
            "tags": []
          },
          "execution_count": 24
        }
      ]
    },
    {
      "cell_type": "code",
      "metadata": {
        "id": "CQZraDOseDiX",
        "colab_type": "code",
        "colab": {
          "base_uri": "https://localhost:8080/",
          "height": 52
        },
        "outputId": "613b72a6-16d3-4a5e-84ff-be04bfc5ca22"
      },
      "source": [
        "# Use sklearn function to predict and get accuracy, default\n",
        "# threshold is 0.5.\n",
        "from sklearn.metrics import accuracy_score\n",
        "y_pred = model.predict(X_val)\n",
        "print(accuracy_score(y_val, y_pred))\n",
        "print(model.score(X_val, y_val))"
      ],
      "execution_count": null,
      "outputs": [
        {
          "output_type": "stream",
          "text": [
            "0.961038961038961\n",
            "0.961038961038961\n"
          ],
          "name": "stdout"
        }
      ]
    },
    {
      "cell_type": "markdown",
      "metadata": {
        "id": "ymnQqqrBhBPW",
        "colab_type": "text"
      },
      "source": [
        "# Metrics for evaluating a classifier\n",
        "\n",
        "Basically all the metrics built on the following four fundamental metrics: \n",
        "1. FP:  False Positive - when our model outputs positive when the correct label was negative\n",
        "2. TN:  True Negative - when our model outputs negative when the correct label was negative\n",
        "3. FN:  False Negative - when our model outputs negative when the correct label was positive\n",
        "4. TP:  True Positive - when our model outputs positive when the correct label was positive"
      ]
    },
    {
      "cell_type": "code",
      "metadata": {
        "id": "Lpltx24oi1T1",
        "colab_type": "code",
        "colab": {}
      },
      "source": [
        "# Confusion Matrix\n",
        "def plot_confusion_matrix(data):\n",
        "  sns.heatmap(data, annot=True, xticklabels=['Pred Neg', 'Pred Pos'],\n",
        "              yticklabels = ['Actual Neg', 'Actual Pos'])"
      ],
      "execution_count": null,
      "outputs": []
    },
    {
      "cell_type": "code",
      "metadata": {
        "id": "Uz17DxJZle_V",
        "colab_type": "code",
        "colab": {}
      },
      "source": [
        "from sklearn.metrics import confusion_matrix"
      ],
      "execution_count": null,
      "outputs": []
    },
    {
      "cell_type": "code",
      "metadata": {
        "id": "NsQZvfb8lshc",
        "colab_type": "code",
        "colab": {
          "base_uri": "https://localhost:8080/",
          "height": 265
        },
        "outputId": "e9a1c654-d324-4ae7-eb1c-5416d87d0c30"
      },
      "source": [
        "plot_confusion_matrix(confusion_matrix(y_val, y_pred))"
      ],
      "execution_count": null,
      "outputs": [
        {
          "output_type": "display_data",
          "data": {
            "image/png": "[encoded data removed]",
            "text/plain": [
              "<Figure size 432x288 with 2 Axes>"
            ]
          },
          "metadata": {
            "tags": [],
            "needs_background": "light"
          }
        }
      ]
    },
    {
      "cell_type": "code",
      "metadata": {
        "id": "TOqyvChjsTBv",
        "colab_type": "code",
        "colab": {
          "base_uri": "https://localhost:8080/",
          "height": 34
        },
        "outputId": "dd977d22-0b20-492b-d385-31299839bdb0"
      },
      "source": [
        "# Compute True Negative by hand\n",
        "pred_neg_pos = np.where(y_pred == 0)\n",
        "actual_class = y_val[pred_neg_pos]\n",
        "print(\"number of true negatives is : %.2d\" % sum(actual_class == 0))"
      ],
      "execution_count": null,
      "outputs": [
        {
          "output_type": "stream",
          "text": [
            "number of true negatives is : 55\n"
          ],
          "name": "stdout"
        }
      ]
    },
    {
      "cell_type": "markdown",
      "metadata": {
        "id": "htOQ7PYYoxbd",
        "colab_type": "text"
      },
      "source": [
        "# Receiver Operating Characteristics (ROC) Curve\n",
        "\n",
        "* ROC curve is a graphical plot that illustrates the diagnostic ability of a binary classifier as its discrimination threshold is varied. \n",
        "\n",
        "* ROC curve is created by plotting the true positive rate (TPR) against the false positive rate (FPR) at various threshold settings.\n",
        "\n",
        "# What is TPR and FPR?\n",
        " \n",
        " * TPR: Of all the things that are truly positive, how many of them did I correctly predict as positive?\n",
        " $$\n",
        " \\text{TPR} = \\frac{TP}{TP + FN}\n",
        " $$\n",
        " * FPR: Of all the things that are truly negative, how many of them did I falsely predict as positive?\n",
        " $$\n",
        " \\text{FPR} = \\frac{FP}{FP + TN}\n",
        " $$\n",
        "\n",
        "\n",
        "\n",
        "\n"
      ]
    },
    {
      "cell_type": "code",
      "metadata": {
        "id": "-3Z5rXIfruam",
        "colab_type": "code",
        "colab": {
          "base_uri": "https://localhost:8080/",
          "height": 52
        },
        "outputId": "72f99a50-c3c4-4ab0-d64e-2963fa4495f8"
      },
      "source": [
        "# A quick computation using the confusion matrix above. \n",
        "TPR = 93 / (93 + 3)\n",
        "FPR = 3 / (3 + 55)\n",
        "print(\"True positive rate is : %2f\" % TPR)\n",
        "print(\"False positive rate is : %2f\" % FPR)"
      ],
      "execution_count": null,
      "outputs": [
        {
          "output_type": "stream",
          "text": [
            "True positive rate is : 0.968750\n",
            "False positive rate is : 0.051724\n"
          ],
          "name": "stdout"
        }
      ]
    },
    {
      "cell_type": "code",
      "metadata": {
        "id": "9F9qYeyuSuzT",
        "colab_type": "code",
        "colab": {}
      },
      "source": [
        "from ipywidgets import interactive, fixed\n",
        "import sklearn.metrics as metrics"
      ],
      "execution_count": null,
      "outputs": []
    },
    {
      "cell_type": "code",
      "metadata": {
        "id": "Xb-SgGddSq4u",
        "colab_type": "code",
        "colab": {}
      },
      "source": [
        "probas_pred = model.predict_proba(X_val)[:,1] \n",
        "fprs, tprs, thresholds = metrics.roc_curve(y_val, probas_pred)"
      ],
      "execution_count": null,
      "outputs": []
    },
    {
      "cell_type": "code",
      "metadata": {
        "id": "TN8RywIZvirE",
        "colab_type": "code",
        "colab": {}
      },
      "source": [
        "def roc(threshold, probas_pred, y_val, fprs, tprs):\n",
        "    y_pred = probas_pred>=threshold\n",
        "\n",
        "    fpr = sum(y_pred*(1-y_val))/sum(y_val == 0) \n",
        " \n",
        "    print('fpr: '+str(round(fpr,2)))\n",
        "\n",
        "    tpr = sum(y_pred*y_val)/y_val.sum()\n",
        " \n",
        "    print('tpr: '+str(round(tpr,2)))\n",
        "\n",
        "    # dashed line \n",
        "    x_dashed = np.linspace(0, 1, num=len(fprs))\n",
        "    plt.plot(fprs, tprs)\n",
        "    plt.plot(x_dashed, x_dashed, linestyle='dashed', color='gray')\n",
        "    plt.plot(fpr, tpr,'ro')\n",
        "    plt.xlabel('False Positive Rate')\n",
        "    plt.ylabel('True Positive Rate')\n",
        "    plt.title('ROC Curve')\n",
        "    plt.xlim(-0.01,1.01)\n",
        "    plt.ylim(-0.01,1.01)"
      ],
      "execution_count": null,
      "outputs": []
    },
    {
      "cell_type": "code",
      "metadata": {
        "id": "vL2K45QXvIyP",
        "colab_type": "code",
        "colab": {
          "base_uri": "https://localhost:8080/",
          "height": 361,
          "referenced_widgets": [
            "a019a2aa5f644db3a9a6336d827ce579",
            "c524c1c0aee04421a653c8e4c43007e0",
            "8a084c9f58cb424ebb2de1b9ea0d3d40",
            "c21f174e6996447abbaa431b1e35c065",
            "8a4ba6e14cdc45688dcba6c9c78ccf91",
            "c11074cea9ec4c21b797e977876ecc04",
            "6e393a59173d4bf4b52c6f4a102c4c4c"
          ]
        },
        "outputId": "f48f521d-25ab-46b1-d32c-c8b686017146"
      },
      "source": [
        "interactive_plot = interactive(roc, threshold=(0,1,0.001), probas_pred=fixed(probas_pred), y_val=fixed(y_val),\n",
        "                               fprs=fixed(fprs), tprs=fixed(tprs))\n",
        "interactive_plot"
      ],
      "execution_count": null,
      "outputs": [
        {
          "output_type": "display_data",
          "data": {
            "application/vnd.jupyter.widget-view+json": {
              "model_id": "a019a2aa5f644db3a9a6336d827ce579",
              "version_minor": 0,
              "version_major": 2
            },
            "text/plain": [
              "interactive(children=(FloatSlider(value=0.0, description='threshold', max=1.0, step=0.001), Output()), _dom_cl…"
            ]
          },
          "metadata": {
            "tags": []
          }
        }
      ]
    },
    {
      "cell_type": "markdown",
      "metadata": {
        "id": "xn8zswiZDwFS",
        "colab_type": "text"
      },
      "source": [
        "# Compare Classifiers\n",
        "\n",
        "* Area under Curve (AUC) calculates the area under the ROC curve.  It is a single number that serves as a measure of aggregated classification performance. \n",
        "\n",
        "\n",
        "* A random guessing classifier that predict class +1 with probability 0.5 would have AUC 0.5.\n",
        "\n",
        "* A good classifier should have AUC as close to 1 as possible and should have AUC at least 0.5."
      ]
    },
    {
      "cell_type": "code",
      "metadata": {
        "id": "DmLPJ9LtDm3D",
        "colab_type": "code",
        "colab": {
          "base_uri": "https://localhost:8080/",
          "height": 52
        },
        "outputId": "711416e9-f40a-4701-92bd-840ebf49f5f9"
      },
      "source": [
        "print(\"area under the curve is : %.5f\" % metrics.auc(fprs, tprs))\n",
        "print(\"area under the curve use another function is : %.5f\" % metrics.roc_auc_score(y_val, probas_pred))"
      ],
      "execution_count": null,
      "outputs": [
        {
          "output_type": "stream",
          "text": [
            "area under the curve is : 0.97737\n",
            "area under the curve use another function is : 0.97737\n"
          ],
          "name": "stdout"
        }
      ]
    },
    {
      "cell_type": "markdown",
      "metadata": {
        "id": "FcaFvw-cG5no",
        "colab_type": "text"
      },
      "source": [
        "# Precision and Recall\n",
        "\n",
        "This is the criterion people usually used in Machine Learning.\n",
        "* Precision: Of the ones I predicted positive, how many of them were actually positive?\n",
        "$$\n",
        "\\text{precision} = \\frac{TP}{TP + FP} \\\\\n",
        "$$\n",
        "\n",
        "* Recall: Same definition as TPR.\n",
        "$$\n",
        "\\text{recall} = \\frac{TP}{TP + FN}\n",
        "$$\n",
        "\n",
        "* F1-score:\n",
        "$$\n",
        "F_1 = 2 \\cdot \\frac{\\text{precision} \\cdot \\text{recall}}{\\text{precision} + \\text{recall}}\n",
        "$$\n"
      ]
    },
    {
      "cell_type": "code",
      "metadata": {
        "id": "n8p-IHzpLNkE",
        "colab_type": "code",
        "colab": {
          "base_uri": "https://localhost:8080/",
          "height": 265
        },
        "outputId": "019fceab-e6d3-4287-8e0a-17fc05757a99"
      },
      "source": [
        "plot_confusion_matrix(confusion_matrix(y_val, y_pred))"
      ],
      "execution_count": null,
      "outputs": [
        {
          "output_type": "display_data",
          "data": {
            "image/png": "[encoded data removed]",
            "text/plain": [
              "<Figure size 432x288 with 2 Axes>"
            ]
          },
          "metadata": {
            "tags": [],
            "needs_background": "light"
          }
        }
      ]
    },
    {
      "cell_type": "code",
      "metadata": {
        "id": "JlxXSABZJ0-k",
        "colab_type": "code",
        "colab": {
          "base_uri": "https://localhost:8080/",
          "height": 69
        },
        "outputId": "0d3eeac7-59e1-42b3-e553-5508f795822a"
      },
      "source": [
        "# A quick computation using the confusion matrix above. \n",
        "Recall = 93 / (93 + 3)\n",
        "Precision = 93 / (93  + 3)\n",
        "print(\"Recall is : %2f\" % Recall)\n",
        "print(\"Precision is : %2f\" % Precision)\n",
        "print(\"F_1 is : %2f\" % (2*Precision*Recall/(Precision+Recall)))"
      ],
      "execution_count": null,
      "outputs": [
        {
          "output_type": "stream",
          "text": [
            "Recall is : 0.968750\n",
            "Precision is : 0.968750\n",
            "F_1 is : 0.968750\n"
          ],
          "name": "stdout"
        }
      ]
    },
    {
      "cell_type": "markdown",
      "metadata": {
        "id": "v8C3A6mrLpUk",
        "colab_type": "text"
      },
      "source": [
        "# Precision and Recall Curve\n",
        "\n",
        "PR curve is created by plotting the **precision** against **recall** at various threshold settings. "
      ]
    },
    {
      "cell_type": "code",
      "metadata": {
        "id": "bnXBmZA-L-Fw",
        "colab_type": "code",
        "colab": {
          "base_uri": "https://localhost:8080/",
          "height": 361,
          "referenced_widgets": [
            "becb62bb471845598dca24eecf88a074",
            "cc2adf0d64404feabe787debb571239c",
            "a29aa304cfab48979eefd57c35fb0075",
            "d9bd3013ad98427f89a4878327fbb367",
            "8aa4912afb4e448d9b68e5643f798702",
            "1c46d40c51204bbb9bc48a8657c0b2bc",
            "ee70f23518fd4c768b62cdbfc47ae99c"
          ]
        },
        "outputId": "416481a7-c6b8-4658-b99d-25558b2312f4"
      },
      "source": [
        "p, r, thresholds = metrics.precision_recall_curve(y_val, probas_pred)\n",
        "\n",
        "def pr(threshold, probas_pred, y_val, r, p):\n",
        "    y_pred = probas_pred>=threshold\n",
        "    if y_pred.sum()>0:\n",
        "      precision = sum(y_pred*y_val)/y_pred.sum()\n",
        "    else:\n",
        "      precision = 1\n",
        "    print('precision: '+str(round(precision,2)))\n",
        "    if y_val.sum()>0:\n",
        "      recall = sum(y_pred*y_val)/y_val.sum()\n",
        "    else:\n",
        "      recall = 1\n",
        "    print('recall: '+str(round(recall,2)))\n",
        "\n",
        "    plt.plot(r,p)\n",
        "    plt.plot(recall,precision,'ro')\n",
        "    plt.xlabel('Recall')\n",
        "    plt.ylabel('Precision')\n",
        "    plt.title('Precision-Recall Curve')\n",
        "    plt.xlim(-0.01,1.01)\n",
        "    plt.ylim(-0.01,1.01)\n",
        "\n",
        "interactive_plot = interactive(pr, threshold=(0,1,0.01), probas_pred=fixed(probas_pred), y_val=fixed(y_val),\n",
        "                               r=fixed(r), p=fixed(p))\n",
        "interactive_plot"
      ],
      "execution_count": null,
      "outputs": [
        {
          "output_type": "display_data",
          "data": {
            "application/vnd.jupyter.widget-view+json": {
              "model_id": "becb62bb471845598dca24eecf88a074",
              "version_minor": 0,
              "version_major": 2
            },
            "text/plain": [
              "interactive(children=(FloatSlider(value=0.0, description='threshold', max=1.0, step=0.01), Output()), _dom_cla…"
            ]
          },
          "metadata": {
            "tags": []
          }
        }
      ]
    },
    {
      "cell_type": "markdown",
      "metadata": {
        "id": "FJK1vHnvOTaZ",
        "colab_type": "text"
      },
      "source": [
        "# Regularization for logistic Regression: $l_1$ and $l_2$ penalty\n",
        "\n",
        "Notice above I set the logistic regression model as `LogisticRegression(penalty = 'none')` to get the Maximum likelihood estimate of $\\beta$.\n",
        "\n",
        "The default in sklearn for `LogisticRegression` uses an $l_2$ penalty, just like ridge regression in the linear regression case.\n",
        "\n",
        "In this case, the loss function could be viewed as the negative log-likelihood function, plus a penalty term. \n",
        "$$\n",
        "\\hat{\\beta} = \\arg\\min_{w} -\\frac{1}{n}l_n(\\beta) + \\lambda \\|\\beta\\|^2\n",
        "$$"
      ]
    },
    {
      "cell_type": "markdown",
      "metadata": {
        "id": "ctxJom_B1Mf1",
        "colab_type": "text"
      },
      "source": [
        "Let's train the breast cancer dataset again."
      ]
    },
    {
      "cell_type": "code",
      "metadata": {
        "id": "c2LEEzvE1CXs",
        "colab_type": "code",
        "colab": {
          "base_uri": "https://localhost:8080/",
          "height": 104
        },
        "outputId": "83702186-c1da-49f1-ed61-1e437424e032"
      },
      "source": [
        "# Create and train logistic regression model\n",
        "model_l2 = LogisticRegression() # default for \"penalty\" argument is l2 penalty.\n",
        "model_l2.fit(X_train,y_train)"
      ],
      "execution_count": null,
      "outputs": [
        {
          "output_type": "execute_result",
          "data": {
            "text/plain": [
              "LogisticRegression(C=1.0, class_weight=None, dual=False, fit_intercept=True,\n",
              "                   intercept_scaling=1, l1_ratio=None, max_iter=100,\n",
              "                   multi_class='auto', n_jobs=None, penalty='l2',\n",
              "                   random_state=None, solver='lbfgs', tol=0.0001, verbose=0,\n",
              "                   warm_start=False)"
            ]
          },
          "metadata": {
            "tags": []
          },
          "execution_count": 39
        }
      ]
    },
    {
      "cell_type": "code",
      "metadata": {
        "id": "clMRkAsO1bUz",
        "colab_type": "code",
        "colab": {
          "base_uri": "https://localhost:8080/",
          "height": 34
        },
        "outputId": "dc108f23-625f-4e60-ebfe-81f410be0409"
      },
      "source": [
        "print(model_l2.score(X_val, y_val)) # obtained slightly better accuracy"
      ],
      "execution_count": null,
      "outputs": [
        {
          "output_type": "stream",
          "text": [
            "0.9805194805194806\n"
          ],
          "name": "stdout"
        }
      ]
    },
    {
      "cell_type": "code",
      "metadata": {
        "id": "fvacE8AX3s5t",
        "colab_type": "code",
        "colab": {
          "base_uri": "https://localhost:8080/",
          "height": 265
        },
        "outputId": "415f9bd4-f274-4f95-fbbe-277a58137756"
      },
      "source": [
        "y_pred = model_l2.predict(X_val)\n",
        "plot_confusion_matrix(confusion_matrix(y_val, y_pred))"
      ],
      "execution_count": null,
      "outputs": [
        {
          "output_type": "display_data",
          "data": {
            "image/png": "[encoded data removed]",
            "text/plain": [
              "<Figure size 432x288 with 2 Axes>"
            ]
          },
          "metadata": {
            "tags": [],
            "needs_background": "light"
          }
        }
      ]
    },
    {
      "cell_type": "code",
      "metadata": {
        "id": "Gl99guc33UPo",
        "colab_type": "code",
        "colab": {
          "base_uri": "https://localhost:8080/",
          "height": 361,
          "referenced_widgets": [
            "9ed20e9997344b16959196cc0fb6d8e8",
            "050b03dad0d840a4bcac77ea44bfb786",
            "e0b52799dc6c45e0adcc8729011bc979",
            "7681ec02eda04231907af10ae0fbaf0d",
            "ccfab484c3554138bbb47faf071e2593",
            "33fb97fc2d6c4434b0793c6dce3cfcf2",
            "d28f654d929b44cc85d37c567935e7bb"
          ]
        },
        "outputId": "c36287a5-b565-474b-8320-dd4ecfed3849"
      },
      "source": [
        "probas_pred = model_l2.predict_proba(X_val)[:,1] \n",
        "fprs, tprs, thresholds = metrics.roc_curve(y_val, probas_pred)\n",
        "interactive_plot = interactive(roc, threshold=(0,1,0.001), probas_pred=fixed(probas_pred), y_val=fixed(y_val),\n",
        "                               fprs=fixed(fprs), tprs=fixed(tprs))\n",
        "interactive_plot"
      ],
      "execution_count": null,
      "outputs": [
        {
          "output_type": "display_data",
          "data": {
            "application/vnd.jupyter.widget-view+json": {
              "model_id": "9ed20e9997344b16959196cc0fb6d8e8",
              "version_minor": 0,
              "version_major": 2
            },
            "text/plain": [
              "interactive(children=(FloatSlider(value=0.0, description='threshold', max=1.0, step=0.001), Output()), _dom_cl…"
            ]
          },
          "metadata": {
            "tags": []
          }
        }
      ]
    },
    {
      "cell_type": "code",
      "metadata": {
        "id": "u6HjubuQ3inR",
        "colab_type": "code",
        "colab": {
          "base_uri": "https://localhost:8080/",
          "height": 34
        },
        "outputId": "46a1c6c9-054d-4411-e8bc-2a3d6d4a4c9a"
      },
      "source": [
        "# The AUC now is super close to 1!\n",
        "print(\"area under the curve is : %.5f\" % metrics.auc(fprs, tprs)) "
      ],
      "execution_count": null,
      "outputs": [
        {
          "output_type": "stream",
          "text": [
            "area under the curve is : 0.99264\n"
          ],
          "name": "stdout"
        }
      ]
    },
    {
      "cell_type": "code",
      "metadata": {
        "id": "6rwthtve398T",
        "colab_type": "code",
        "colab": {
          "base_uri": "https://localhost:8080/",
          "height": 361,
          "referenced_widgets": [
            "597302b0399f467f913cfbaba398343a",
            "f1eee5af34f84a4fb649ab60e56b1778",
            "7de2018d167e491093a6535585f2caf0",
            "b469f1112197468a8fa32ab2f0aa8894",
            "f0249dab383a4d5fb1fa315e4c7df04b",
            "b826d20443234f588a818c777e3ad285",
            "b9664f9828e041f3a95d10f544a7ea48"
          ]
        },
        "outputId": "78a3bcf9-49c5-4849-d647-862965a47925"
      },
      "source": [
        "# Precision and Recall Curve\n",
        "p, r, thresholds = metrics.precision_recall_curve(y_val, probas_pred)\n",
        "interactive_plot = interactive(pr, threshold=(0,1,0.01), probas_pred=fixed(probas_pred), y_val=fixed(y_val),\n",
        "                               r=fixed(r), p=fixed(p))\n",
        "interactive_plot"
      ],
      "execution_count": null,
      "outputs": [
        {
          "output_type": "display_data",
          "data": {
            "application/vnd.jupyter.widget-view+json": {
              "model_id": "597302b0399f467f913cfbaba398343a",
              "version_minor": 0,
              "version_major": 2
            },
            "text/plain": [
              "interactive(children=(FloatSlider(value=0.0, description='threshold', max=1.0, step=0.01), Output()), _dom_cla…"
            ]
          },
          "metadata": {
            "tags": []
          }
        }
      ]
    },
    {
      "cell_type": "markdown",
      "metadata": {
        "id": "vvFkbSHL4ShY",
        "colab_type": "text"
      },
      "source": [
        "## Try Logistic Regression with $l_1$ penalty for yourself!"
      ]
    },
    {
      "cell_type": "code",
      "metadata": {
        "id": "wxS01MXq4Ya8",
        "colab_type": "code",
        "colab": {
          "base_uri": "https://localhost:8080/",
          "height": 104
        },
        "outputId": "93a77c1c-9a29-47f4-c1c9-b56151d78834"
      },
      "source": [
        "model_l1 = LogisticRegression(penalty = 'l2')#, solver = 'liblinear') # need to use a different solver for l1 penalty\n",
        "model_l1.fit(X_train,y_train)"
      ],
      "execution_count": null,
      "outputs": [
        {
          "output_type": "execute_result",
          "data": {
            "text/plain": [
              "LogisticRegression(C=1.0, class_weight=None, dual=False, fit_intercept=True,\n",
              "                   intercept_scaling=1, l1_ratio=None, max_iter=100,\n",
              "                   multi_class='auto', n_jobs=None, penalty='l2',\n",
              "                   random_state=None, solver='lbfgs', tol=0.0001, verbose=0,\n",
              "                   warm_start=False)"
            ]
          },
          "metadata": {
            "tags": []
          },
          "execution_count": 45
        }
      ]
    },
    {
      "cell_type": "markdown",
      "metadata": {
        "id": "aae9zLCIgQiJ",
        "colab_type": "text"
      },
      "source": [
        "## Breakout question: what if we have a different dataset?\n",
        "What if we switch the data from the earlier example so the positives and negatives are adjacent?\n",
        "What does our decision boundary look like?"
      ]
    },
    {
      "cell_type": "code",
      "metadata": {
        "id": "_xp_XW6qgj4w",
        "colab_type": "code",
        "colab": {
          "base_uri": "https://localhost:8080/",
          "height": 340
        },
        "outputId": "19a15b47-82f0-41ef-91e7-50b99815843d"
      },
      "source": [
        "# data\n",
        "x_1, y_1 = (1, 1)\n",
        "x_2, y_2 = (-1, 0)\n",
        "x_3, y_3 = (-0.2, 0)\n",
        "x_4, y_4 = (0.2, 1)\n",
        "\n",
        "X_small = np.array([x_1, x_2, x_3, x_4]).reshape((4, 1))\n",
        "X_small = np.append(np.ones((4, 1)), X_small, 1)\n",
        "Y_small = np.array([y_1, y_2, y_3, y_4])\n",
        "\n",
        "fig, axes = plt.subplots(1,2, figsize=(12, 5))\n",
        "axes[0].scatter([x_1, x_2, x_3, x_4], Y_small)\n",
        "axes[0].set_xlabel('$x$')\n",
        "axes[0].set_ylabel('$y$')\n",
        "axes[0].set_title('Data with labels as $y$ values')\n",
        "\n",
        "axes[1].scatter([x_1, x_2, x_3, x_4], [0] * 4, c=Y_small)\n",
        "axes[1].set_xlabel('$x$')\n",
        "axes[1].set_title('Data with labels as colors')\n",
        "\n",
        "plt.show()\n",
        "\n"
      ],
      "execution_count": null,
      "outputs": [
        {
          "output_type": "display_data",
          "data": {
            "image/png": "[encoded data removed]",
            "text/plain": [
              "<Figure size 864x360 with 2 Axes>"
            ]
          },
          "metadata": {
            "tags": [],
            "needs_background": "light"
          }
        }
      ]
    },
    {
      "cell_type": "code",
      "metadata": {
        "id": "n4XPfKmog1M_",
        "colab_type": "code",
        "colab": {
          "base_uri": "https://localhost:8080/",
          "height": 358
        },
        "outputId": "9461bb14-51db-4dec-c2ec-6cc1a6853d1b"
      },
      "source": [
        "model_2 = LogisticRegression(penalty = 'none') \n",
        "model_2.fit(X_small, Y_small)\n",
        "\n",
        "mle_estimate = model_2.coef_[0]\n",
        "\n",
        "xs = np.linspace(-1, 1)\n",
        "ys = sigmoid_function(mle_estimate[0] + xs * mle_estimate[1])\n",
        "\n",
        "fig, axes = plt.subplots(1,2, figsize=(12, 5))\n",
        "axes[0].scatter([x_1, x_2, x_3, x_4], Y_small)\n",
        "axes[0].plot(xs, ys)\n",
        "axes[0].set_xlabel('$x$')\n",
        "axes[0].set_ylabel('$y$')\n",
        "axes[0].set_title('Data with labels as $y$ values and logistic function')\n",
        "\n",
        "decision_xs = [mle_estimate[0], mle_estimate[0]]\n",
        "decision_ys = [-1, 1]\n",
        "\n",
        "axes[1].scatter([x_1, x_2, x_3, x_4], [0] * 4, c=Y_small)\n",
        "axes[1].plot(decision_xs, decision_ys)\n",
        "axes[1].set_xlabel('$x$')\n",
        "axes[1].set_title('Data with labels as colors and decision boundary')\n",
        "\n",
        "plt.show()\n",
        "\n",
        "print('Maximum likelihood estimate would be : (%.3f, %.3f)' % (mle_estimate[0], mle_estimate[1]))\n",
        "\n"
      ],
      "execution_count": null,
      "outputs": [
        {
          "output_type": "display_data",
          "data": {
            "image/png": "[encoded data removed]",
            "text/plain": [
              "<Figure size 864x360 with 2 Axes>"
            ]
          },
          "metadata": {
            "tags": [],
            "needs_background": "light"
          }
        },
        {
          "output_type": "stream",
          "text": [
            "Maximum likelihood estimate would be : (0.000, 43.902)\n"
          ],
          "name": "stdout"
        }
      ]
    },
    {
      "cell_type": "markdown",
      "metadata": {
        "id": "N3hGW9rYhCS2",
        "colab_type": "text"
      },
      "source": [
        "Now our estimate of the parameter would is: $\\hat{\\beta}_0 = 0$, $\\hat{\\beta}_1 = 43.9$. We get the same decision boundary $\\hat{\\beta}_0 = 0$, but the \"confidence\" in our answer has gone up. If our data are linearly seperable like this, then the actual solution is at $\\hat{\\beta}_1 = \\infty$. Try and think about why!"
      ]
    }
  ]
}